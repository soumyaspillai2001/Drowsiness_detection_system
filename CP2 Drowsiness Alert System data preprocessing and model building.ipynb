{
 "cells": [
  {
   "cell_type": "markdown",
   "id": "1c4821ec",
   "metadata": {},
   "source": [
    "# Import Required Libraries"
   ]
  },
  {
   "cell_type": "code",
   "execution_count": 18,
   "id": "46983b54",
   "metadata": {},
   "outputs": [],
   "source": [
    "import os\n",
    "import numpy as np\n",
    "from tensorflow.keras.preprocessing.image import ImageDataGenerator\n",
    "from sklearn.model_selection import train_test_split\n",
    "import matplotlib.pyplot as plt\n",
    "%matplotlib inline"
   ]
  },
  {
   "cell_type": "markdown",
   "id": "dccf692e",
   "metadata": {},
   "source": [
    "# Data Preparation"
   ]
  },
  {
   "cell_type": "code",
   "execution_count": 2,
   "id": "fdffe83e",
   "metadata": {},
   "outputs": [],
   "source": [
    "# Define paths\n",
    "data_dir = \"E:/Imarticus PG Data science class/CP2/Drowsiness Detection Project/Dataset/\"\n",
    "categories = [\"open_eyes\", \"closed_eyes\"]"
   ]
  },
  {
   "cell_type": "markdown",
   "id": "7bb27a67",
   "metadata": {},
   "source": [
    "# Data Preprocessing"
   ]
  },
  {
   "cell_type": "code",
   "execution_count": 3,
   "id": "96d91124",
   "metadata": {},
   "outputs": [],
   "source": [
    "# Image size\n",
    "IMG_SIZE = (64, 64)"
   ]
  },
  {
   "cell_type": "code",
   "execution_count": 4,
   "id": "6f48e099",
   "metadata": {},
   "outputs": [],
   "source": [
    "import cv2"
   ]
  },
  {
   "cell_type": "code",
   "execution_count": 5,
   "id": "fa2f117a",
   "metadata": {},
   "outputs": [],
   "source": [
    "def load_data():\n",
    "    data = []\n",
    "    labels = []\n",
    "\n",
    "    for category in categories:\n",
    "        path = os.path.join(data_dir, category)\n",
    "        class_num = categories.index(category)  # 0 for open, 1 for closed\n",
    "\n",
    "        for img in os.listdir(path):\n",
    "            img_array = plt.imread(os.path.join(path, img))\n",
    "            img_resized = cv2.resize(img_array, IMG_SIZE)  # Resize to (64, 64)\n",
    "            data.append(img_resized)\n",
    "            labels.append(class_num)\n",
    "\n",
    "    return np.array(data), np.array(labels)\n"
   ]
  },
  {
   "cell_type": "markdown",
   "id": "d0592845",
   "metadata": {},
   "source": [
    "# Creating X and Y"
   ]
  },
  {
   "cell_type": "code",
   "execution_count": 6,
   "id": "380f24fb",
   "metadata": {},
   "outputs": [],
   "source": [
    "X, y = load_data()"
   ]
  },
  {
   "cell_type": "code",
   "execution_count": 160,
   "id": "3cc35933",
   "metadata": {},
   "outputs": [
    {
     "data": {
      "text/plain": [
       "array([[[0.18391737, 0.18988971, 0.19215687, ..., 0.35520837,\n",
       "         0.35764688, 0.35741422],\n",
       "        [0.1764706 , 0.18963121, 0.19381128, ..., 0.36458528,\n",
       "         0.3664455 , 0.36267138],\n",
       "        [0.17420344, 0.1881137 , 0.19525985, ..., 0.36432102,\n",
       "         0.3719363 , 0.36288777],\n",
       "        ...,\n",
       "        [0.23856083, 0.25355488, 0.25813228, ..., 0.2933431 ,\n",
       "         0.30968234, 0.3161554 ],\n",
       "        [0.23976716, 0.24644609, 0.2580892 , ..., 0.28909412,\n",
       "         0.30030638, 0.30840707],\n",
       "        [0.24024108, 0.24981618, 0.26262257, ..., 0.29534313,\n",
       "         0.29954717, 0.3019608 ]],\n",
       "\n",
       "       [[0.11476716, 0.12271609, 0.12444854, ..., 0.34613973,\n",
       "         0.3458264 , 0.34607053],\n",
       "        [0.11455964, 0.11906619, 0.11868466, ..., 0.3555413 ,\n",
       "         0.3512047 , 0.35377532],\n",
       "        [0.11164216, 0.11815569, 0.1220009 , ..., 0.3655501 ,\n",
       "         0.35839054, 0.3565128 ],\n",
       "        ...,\n",
       "        [0.15373775, 0.1751532 , 0.19994903, ..., 0.28674772,\n",
       "         0.30226716, 0.3164345 ],\n",
       "        [0.16130514, 0.18272059, 0.20076187, ..., 0.29022673,\n",
       "         0.3074755 , 0.31712624],\n",
       "        [0.16286765, 0.1842831 , 0.20354506, ..., 0.28794187,\n",
       "         0.2986283 , 0.31577125]],\n",
       "\n",
       "       [[0.11476716, 0.12271609, 0.12444854, ..., 0.34613973,\n",
       "         0.3458264 , 0.34607053],\n",
       "        [0.11455964, 0.11906619, 0.11868466, ..., 0.3555413 ,\n",
       "         0.3512047 , 0.35377532],\n",
       "        [0.11164216, 0.11815569, 0.1220009 , ..., 0.3655501 ,\n",
       "         0.35839054, 0.3565128 ],\n",
       "        ...,\n",
       "        [0.15373775, 0.1751532 , 0.19994903, ..., 0.28674772,\n",
       "         0.30226716, 0.3164345 ],\n",
       "        [0.16130514, 0.18272059, 0.20076187, ..., 0.29022673,\n",
       "         0.3074755 , 0.31712624],\n",
       "        [0.16286765, 0.1842831 , 0.20354506, ..., 0.28794187,\n",
       "         0.2986283 , 0.31577125]],\n",
       "\n",
       "       ...,\n",
       "\n",
       "       [[0.49411765, 0.49240196, 0.4946691 , ..., 0.2721814 ,\n",
       "         0.2624512 , 0.2560049 ],\n",
       "        [0.49914217, 0.4967285 , 0.49803922, ..., 0.27432695,\n",
       "         0.2667519 , 0.26102942],\n",
       "        [0.5017971 , 0.5007966 , 0.5007966 , ..., 0.27726716,\n",
       "         0.2715696 , 0.26605392],\n",
       "        ...,\n",
       "        [0.3579657 , 0.3663603 , 0.3713848 , ..., 0.38982844,\n",
       "         0.37977943, 0.3731005 ],\n",
       "        [0.3579657 , 0.3663603 , 0.3713848 , ..., 0.3859672 ,\n",
       "         0.37882298, 0.3731005 ],\n",
       "        [0.3579657 , 0.3663603 , 0.3713848 , ..., 0.3831495 ,\n",
       "         0.378125  , 0.37020433]],\n",
       "\n",
       "       [[0.30778858, 0.32101718, 0.3349265 , ..., 0.52224267,\n",
       "         0.52224267, 0.52224267],\n",
       "        [0.3048608 , 0.31476814, 0.32618147, ..., 0.5275123 ,\n",
       "         0.5275123 , 0.5258378 ],\n",
       "        [0.3026348 , 0.31194854, 0.32101718, ..., 0.5231455 ,\n",
       "         0.5260417 , 0.525585  ],\n",
       "        ...,\n",
       "        [0.35306373, 0.3563113 , 0.3563113 , ..., 0.38376227,\n",
       "         0.37849265, 0.3764706 ],\n",
       "        [0.34936714, 0.3520211 , 0.3529412 , ..., 0.38376227,\n",
       "         0.37849265, 0.3764706 ],\n",
       "        [0.34633023, 0.34936717, 0.3524845 , ..., 0.3805147 ,\n",
       "         0.37681815, 0.3764706 ]],\n",
       "\n",
       "       [[0.49411765, 0.49411765, 0.49411765, ..., 0.28039217,\n",
       "         0.27549022, 0.27101716],\n",
       "        [0.49558824, 0.49558824, 0.49558824, ..., 0.27640933,\n",
       "         0.27058825, 0.2678309 ],\n",
       "        [0.49803922, 0.49803922, 0.49957108, ..., 0.27395836,\n",
       "         0.26813728, 0.2632353 ],\n",
       "        ...,\n",
       "        [0.3516544 , 0.35441178, 0.36023286, ..., 0.39031863,\n",
       "         0.38541666, 0.38088235],\n",
       "        [0.35196078, 0.35686275, 0.3642157 , ..., 0.39368874,\n",
       "         0.39031863, 0.38149512],\n",
       "        [0.3602941 , 0.36648285, 0.3716912 , ..., 0.39589462,\n",
       "         0.39344364, 0.3908701 ]]], dtype=float32)"
      ]
     },
     "execution_count": 160,
     "metadata": {},
     "output_type": "execute_result"
    }
   ],
   "source": [
    "X"
   ]
  },
  {
   "cell_type": "code",
   "execution_count": 161,
   "id": "f6697c07",
   "metadata": {},
   "outputs": [
    {
     "data": {
      "text/plain": [
       "array([0, 0, 0, ..., 1, 1, 1])"
      ]
     },
     "execution_count": 161,
     "metadata": {},
     "output_type": "execute_result"
    }
   ],
   "source": [
    "y"
   ]
  },
  {
   "cell_type": "code",
   "execution_count": 162,
   "id": "0e66f87b",
   "metadata": {},
   "outputs": [
    {
     "data": {
      "text/plain": [
       "(1018, 64, 64)"
      ]
     },
     "execution_count": 162,
     "metadata": {},
     "output_type": "execute_result"
    }
   ],
   "source": [
    "X.shape"
   ]
  },
  {
   "cell_type": "code",
   "execution_count": 163,
   "id": "5f536ca3",
   "metadata": {},
   "outputs": [
    {
     "data": {
      "text/plain": [
       "(1018,)"
      ]
     },
     "execution_count": 163,
     "metadata": {},
     "output_type": "execute_result"
    }
   ],
   "source": [
    "y.shape"
   ]
  },
  {
   "cell_type": "markdown",
   "id": "d320b14f",
   "metadata": {},
   "source": [
    "## Normalize the image data"
   ]
  },
  {
   "cell_type": "code",
   "execution_count": 7,
   "id": "012493e7",
   "metadata": {},
   "outputs": [],
   "source": [
    "# Normalize the image data\n",
    "X = X / 255.0"
   ]
  },
  {
   "cell_type": "code",
   "execution_count": 165,
   "id": "1d44f38e",
   "metadata": {},
   "outputs": [
    {
     "data": {
      "text/plain": [
       "array([[[0.00072124, 0.00074467, 0.00075356, ..., 0.00139297,\n",
       "         0.00140254, 0.00140162],\n",
       "        [0.00069204, 0.00074365, 0.00076004, ..., 0.00142975,\n",
       "         0.00143704, 0.00142224],\n",
       "        [0.00068315, 0.0007377 , 0.00076572, ..., 0.00142871,\n",
       "         0.00145857, 0.00142309],\n",
       "        ...,\n",
       "        [0.00093553, 0.00099433, 0.00101228, ..., 0.00115037,\n",
       "         0.00121444, 0.00123983],\n",
       "        [0.00094026, 0.00096646, 0.00101211, ..., 0.0011337 ,\n",
       "         0.00117767, 0.00120944],\n",
       "        [0.00094212, 0.00097967, 0.00102989, ..., 0.00115821,\n",
       "         0.00117469, 0.00118416]],\n",
       "\n",
       "       [[0.00045007, 0.00048124, 0.00048803, ..., 0.00135741,\n",
       "         0.00135618, 0.00135714],\n",
       "        [0.00044925, 0.00046693, 0.00046543, ..., 0.00139428,\n",
       "         0.00137727, 0.00138735],\n",
       "        [0.00043781, 0.00046336, 0.00047843, ..., 0.00143353,\n",
       "         0.00140545, 0.00139809],\n",
       "        ...,\n",
       "        [0.00060289, 0.00068688, 0.00078411, ..., 0.0011245 ,\n",
       "         0.00118536, 0.00124092],\n",
       "        [0.00063257, 0.00071655, 0.0007873 , ..., 0.00113814,\n",
       "         0.00120579, 0.00124363],\n",
       "        [0.0006387 , 0.00072268, 0.00079822, ..., 0.00112918,\n",
       "         0.00117109, 0.00123832]],\n",
       "\n",
       "       [[0.00045007, 0.00048124, 0.00048803, ..., 0.00135741,\n",
       "         0.00135618, 0.00135714],\n",
       "        [0.00044925, 0.00046693, 0.00046543, ..., 0.00139428,\n",
       "         0.00137727, 0.00138735],\n",
       "        [0.00043781, 0.00046336, 0.00047843, ..., 0.00143353,\n",
       "         0.00140545, 0.00139809],\n",
       "        ...,\n",
       "        [0.00060289, 0.00068688, 0.00078411, ..., 0.0011245 ,\n",
       "         0.00118536, 0.00124092],\n",
       "        [0.00063257, 0.00071655, 0.0007873 , ..., 0.00113814,\n",
       "         0.00120579, 0.00124363],\n",
       "        [0.0006387 , 0.00072268, 0.00079822, ..., 0.00112918,\n",
       "         0.00117109, 0.00123832]],\n",
       "\n",
       "       ...,\n",
       "\n",
       "       [[0.00193772, 0.00193099, 0.00193988, ..., 0.00106738,\n",
       "         0.00102922, 0.00100394],\n",
       "        [0.00195742, 0.00194795, 0.00195309, ..., 0.00107579,\n",
       "         0.00104609, 0.00102364],\n",
       "        [0.00196783, 0.00196391, 0.00196391, ..., 0.00108732,\n",
       "         0.00106498, 0.00104335],\n",
       "        ...,\n",
       "        [0.00140379, 0.00143671, 0.00145641, ..., 0.00152874,\n",
       "         0.00148933, 0.00146314],\n",
       "        [0.00140379, 0.00143671, 0.00145641, ..., 0.0015136 ,\n",
       "         0.00148558, 0.00146314],\n",
       "        [0.00140379, 0.00143671, 0.00145641, ..., 0.00150255,\n",
       "         0.00148284, 0.00145178]],\n",
       "\n",
       "       [[0.00120701, 0.00125889, 0.00131344, ..., 0.00204801,\n",
       "         0.00204801, 0.00204801],\n",
       "        [0.00119553, 0.00123438, 0.00127914, ..., 0.00206868,\n",
       "         0.00206868, 0.00206211],\n",
       "        [0.0011868 , 0.00122333, 0.00125889, ..., 0.00205155,\n",
       "         0.00206291, 0.00206112],\n",
       "        ...,\n",
       "        [0.00138456, 0.0013973 , 0.0013973 , ..., 0.00150495,\n",
       "         0.00148428, 0.00147636],\n",
       "        [0.00137007, 0.00138047, 0.00138408, ..., 0.00150495,\n",
       "         0.00148428, 0.00147636],\n",
       "        [0.00135816, 0.00137007, 0.00138229, ..., 0.00149221,\n",
       "         0.00147772, 0.00147636]],\n",
       "\n",
       "       [[0.00193772, 0.00193772, 0.00193772, ..., 0.00109958,\n",
       "         0.00108035, 0.00106281],\n",
       "        [0.00194348, 0.00194348, 0.00194348, ..., 0.00108396,\n",
       "         0.00106113, 0.00105032],\n",
       "        [0.00195309, 0.00195309, 0.0019591 , ..., 0.00107435,\n",
       "         0.00105152, 0.0010323 ],\n",
       "        ...,\n",
       "        [0.00137904, 0.00138985, 0.00141268, ..., 0.00153066,\n",
       "         0.00151144, 0.00149366],\n",
       "        [0.00138024, 0.00139946, 0.0014283 , ..., 0.00154388,\n",
       "         0.00153066, 0.00149606],\n",
       "        [0.00141292, 0.00143719, 0.00145761, ..., 0.00155253,\n",
       "         0.00154292, 0.00153282]]], dtype=float32)"
      ]
     },
     "execution_count": 165,
     "metadata": {},
     "output_type": "execute_result"
    }
   ],
   "source": [
    "X"
   ]
  },
  {
   "cell_type": "markdown",
   "id": "a92d6fa7",
   "metadata": {},
   "source": [
    "# Train-validation-test split (splitting data in 3 sets)"
   ]
  },
  {
   "cell_type": "code",
   "execution_count": 8,
   "id": "5e869741",
   "metadata": {},
   "outputs": [],
   "source": [
    "from sklearn.model_selection import train_test_split\n",
    "\n",
    "# Split into train, validation, and test sets\n",
    "X_train, X_temp, y_train, y_temp = train_test_split(X, y, test_size=0.3, random_state=42)\n",
    "X_val, X_test, y_val, y_test = train_test_split(X_temp, y_temp, test_size=0.5, random_state=42)"
   ]
  },
  {
   "cell_type": "code",
   "execution_count": 9,
   "id": "620c124b",
   "metadata": {},
   "outputs": [],
   "source": [
    "# Reshape images for CNN input (grayscale images, single channel)\n",
    "X_train = X_train.reshape(-1, 64, 64, 1)\n",
    "X_val = X_val.reshape(-1, 64, 64, 1)\n",
    "X_test = X_test.reshape(-1, 64, 64, 1)"
   ]
  },
  {
   "cell_type": "code",
   "execution_count": 168,
   "id": "b64b157a",
   "metadata": {},
   "outputs": [
    {
     "name": "stdout",
     "output_type": "stream",
     "text": [
      "(712, 64, 64, 1)\n",
      "(712,)\n",
      "(153, 64, 64, 1)\n",
      "(153,)\n"
     ]
    }
   ],
   "source": [
    "print(X_train.shape)\n",
    "print(y_train.shape)\n",
    "print(X_val.shape)\n",
    "print(y_val.shape)"
   ]
  },
  {
   "cell_type": "code",
   "execution_count": 169,
   "id": "abddd5c0",
   "metadata": {},
   "outputs": [
    {
     "name": "stdout",
     "output_type": "stream",
     "text": [
      "(153, 64, 64, 1)\n",
      "(153,)\n"
     ]
    }
   ],
   "source": [
    "print(X_test.shape)\n",
    "print(y_test.shape)"
   ]
  },
  {
   "cell_type": "code",
   "execution_count": 170,
   "id": "316c7ddb",
   "metadata": {},
   "outputs": [
    {
     "data": {
      "text/plain": [
       "array([1, 1, 0, 1, 0, 0, 0, 1, 0, 0, 1, 1, 1, 1, 1, 1, 0, 1, 1, 1, 0, 1,\n",
       "       1, 1, 1, 1, 0, 0, 1, 0, 0, 0, 0, 0, 0, 1, 0, 1, 1, 0, 1, 0, 1, 1,\n",
       "       1, 0, 0, 1, 1, 0, 1, 0, 1, 0, 0, 1, 0, 1, 1, 0, 1, 0, 0, 0, 1, 0,\n",
       "       0, 0, 0, 0, 0, 0, 1, 1, 1, 0, 1, 0, 0, 1, 0, 1, 1, 0, 1, 0, 0, 0,\n",
       "       1, 0, 0, 1, 1, 0, 0, 1, 0, 0, 0, 1, 0, 1, 0, 1, 0, 0, 1, 0, 1, 0,\n",
       "       0, 0, 1, 1, 0, 1, 0, 1, 1, 1, 1, 0, 0, 0, 1, 1, 1, 0, 1, 1, 1, 0,\n",
       "       1, 0, 0, 1, 0, 1, 0, 0, 0, 0, 1, 0, 0, 0, 0, 0, 0, 0, 0, 0, 1, 1,\n",
       "       0, 1, 1, 1, 1, 0, 1, 1, 0, 1, 1, 1, 0, 1, 0, 0, 0, 1, 1, 1, 0, 0,\n",
       "       0, 0, 1, 1, 0, 0, 0, 0, 0, 0, 0, 0, 1, 0, 0, 1, 1, 1, 1, 1, 1, 1,\n",
       "       0, 0, 0, 1, 0, 0, 0, 0, 0, 1, 0, 1, 1, 1, 1, 0, 0, 0, 1, 0, 1, 0,\n",
       "       0, 1, 1, 0, 0, 1, 1, 0, 0, 1, 1, 0, 1, 0, 1, 0, 1, 0, 1, 0, 0, 0,\n",
       "       1, 0, 0, 0, 0, 0, 0, 1, 1, 1, 1, 0, 0, 0, 1, 0, 1, 1, 0, 0, 0, 0,\n",
       "       0, 1, 1, 1, 1, 0, 0, 1, 0, 0, 1, 1, 0, 0, 1, 1, 0, 0, 1, 0, 0, 0,\n",
       "       1, 0, 0, 1, 1, 1, 0, 1, 1, 0, 0, 0, 1, 1, 1, 1, 0, 0, 1, 1, 1, 0,\n",
       "       0, 0, 0, 1, 1, 0, 0, 1, 1, 0, 0, 1, 1, 1, 1, 1, 1, 1, 0, 1, 0, 1,\n",
       "       0, 0, 1, 0, 1, 1, 1, 1, 0, 0, 1, 1, 0, 0, 1, 0, 1, 0, 0, 0, 1, 0,\n",
       "       0, 1, 1, 1, 1, 0, 1, 1, 0, 1, 1, 1, 1, 0, 1, 0, 1, 1, 1, 0, 0, 1,\n",
       "       0, 0, 0, 1, 1, 1, 1, 0, 0, 0, 0, 1, 0, 1, 1, 1, 0, 1, 0, 0, 1, 0,\n",
       "       0, 1, 1, 1, 1, 1, 0, 1, 0, 0, 0, 1, 1, 1, 1, 1, 0, 1, 0, 0, 1, 1,\n",
       "       1, 1, 0, 0, 0, 0, 0, 1, 1, 0, 1, 0, 1, 0, 0, 0, 0, 0, 0, 0, 0, 0,\n",
       "       1, 1, 1, 1, 1, 0, 1, 0, 1, 1, 1, 1, 0, 1, 1, 1, 1, 1, 1, 1, 1, 0,\n",
       "       1, 1, 0, 1, 0, 0, 0, 1, 0, 1, 1, 1, 0, 1, 1, 0, 1, 1, 0, 1, 0, 1,\n",
       "       1, 0, 0, 1, 1, 1, 0, 0, 0, 0, 1, 1, 0, 0, 0, 1, 1, 1, 1, 1, 1, 1,\n",
       "       1, 1, 1, 1, 1, 1, 1, 0, 0, 1, 0, 1, 0, 1, 0, 1, 1, 1, 1, 1, 1, 0,\n",
       "       1, 0, 1, 1, 1, 0, 1, 1, 0, 0, 1, 0, 1, 1, 0, 0, 1, 1, 1, 1, 1, 1,\n",
       "       1, 1, 0, 1, 1, 1, 0, 0, 0, 0, 1, 1, 0, 0, 0, 1, 0, 0, 1, 0, 0, 0,\n",
       "       1, 0, 1, 0, 0, 0, 0, 1, 0, 1, 1, 1, 1, 0, 1, 0, 0, 0, 0, 0, 0, 1,\n",
       "       0, 1, 0, 1, 0, 1, 1, 1, 0, 1, 0, 1, 0, 0, 1, 1, 1, 0, 0, 0, 1, 1,\n",
       "       0, 1, 0, 1, 1, 0, 1, 0, 0, 1, 1, 1, 1, 0, 0, 0, 1, 0, 0, 0, 0, 0,\n",
       "       0, 1, 1, 0, 1, 0, 0, 0, 1, 0, 0, 0, 1, 1, 1, 1, 0, 1, 0, 1, 0, 1,\n",
       "       1, 1, 1, 1, 1, 0, 1, 1, 0, 1, 1, 0, 0, 1, 1, 1, 0, 0, 0, 0, 0, 0,\n",
       "       1, 0, 0, 1, 0, 0, 0, 1, 0, 1, 0, 1, 1, 0, 0, 0, 0, 0, 0, 0, 0, 1,\n",
       "       0, 1, 0, 0, 0, 1, 0, 0])"
      ]
     },
     "execution_count": 170,
     "metadata": {},
     "output_type": "execute_result"
    }
   ],
   "source": [
    "y_train"
   ]
  },
  {
   "cell_type": "markdown",
   "id": "1d9d174b",
   "metadata": {},
   "source": [
    "# Building a CNN (Convolutional Neural Network) model"
   ]
  },
  {
   "cell_type": "code",
   "execution_count": 10,
   "id": "2fe140df",
   "metadata": {},
   "outputs": [],
   "source": [
    "import tensorflow as tf\n",
    "from tensorflow.keras.models import Sequential\n",
    "from tensorflow.keras.layers import Conv2D, MaxPooling2D, Flatten, Dense, Dropout\n",
    "from tensorflow.keras.optimizers import Adam\n",
    "\n",
    "# we have already loaded and preprocessed your data\n",
    "# X is your input data, y is your labels\n",
    "# X should have shape (num_samples, img_height, img_width, num_channels)\n",
    "# y should be binary (0 for closed eyes, 1 for open eyes)\n",
    "\n",
    "# Example dataset shape after preprocessing\n",
    "# X_train, X_test, y_train, y_test are the split datasets for training and testing"
   ]
  },
  {
   "cell_type": "markdown",
   "id": "fbb2bcbd",
   "metadata": {},
   "source": [
    "## Define Model Architecture"
   ]
  },
  {
   "cell_type": "code",
   "execution_count": 11,
   "id": "4ae22442",
   "metadata": {},
   "outputs": [
    {
     "name": "stderr",
     "output_type": "stream",
     "text": [
      "C:\\Users\\Admin\\anaconda3\\Lib\\site-packages\\keras\\src\\layers\\convolutional\\base_conv.py:107: UserWarning: Do not pass an `input_shape`/`input_dim` argument to a layer. When using Sequential models, prefer using an `Input(shape)` object as the first layer in the model instead.\n",
      "  super().__init__(activity_regularizer=activity_regularizer, **kwargs)\n"
     ]
    }
   ],
   "source": [
    "# Model Architecture\n",
    "model = Sequential()\n",
    "\n",
    "# 1st Convolutional Layer\n",
    "model.add(Conv2D(32, (3, 3), activation='relu', input_shape=(64, 64, 1), padding='same'))  # Grayscale images\n",
    "model.add(MaxPooling2D(pool_size=(2, 2)))\n",
    "\n",
    "# 2nd Convolutional Layer\n",
    "model.add(Conv2D(64, (3, 3), activation='relu', padding='same'))\n",
    "model.add(MaxPooling2D(pool_size=(2, 2)))\n",
    "\n",
    "# 3rd Convolutional Layer\n",
    "model.add(Conv2D(64, (3, 3), activation='relu', padding='same'))\n",
    "model.add(MaxPooling2D(pool_size=(2, 2)))\n",
    "\n",
    "# Flattening the layers\n",
    "model.add(Flatten())\n",
    "\n",
    "# Fully connected layer\n",
    "model.add(Dense(128, activation='relu'))\n",
    "\n",
    "# Dropout to reduce overfitting\n",
    "model.add(Dropout(0.5))\n",
    "\n",
    "# Output layer with sigmoid activation for binary classification\n",
    "model.add(Dense(1, activation='sigmoid'))"
   ]
  },
  {
   "cell_type": "markdown",
   "id": "9df99ea3",
   "metadata": {},
   "source": [
    "## Compile the model"
   ]
  },
  {
   "cell_type": "code",
   "execution_count": 12,
   "id": "332e3c82",
   "metadata": {},
   "outputs": [],
   "source": [
    "# Compile the model\n",
    "model.compile(optimizer=Adam(learning_rate=0.001), loss='binary_crossentropy', metrics=['accuracy'])"
   ]
  },
  {
   "cell_type": "code",
   "execution_count": 13,
   "id": "e825fe4d",
   "metadata": {},
   "outputs": [
    {
     "data": {
      "text/html": [
       "<pre style=\"white-space:pre;overflow-x:auto;line-height:normal;font-family:Menlo,'DejaVu Sans Mono',consolas,'Courier New',monospace\"><span style=\"font-weight: bold\">Model: \"sequential\"</span>\n",
       "</pre>\n"
      ],
      "text/plain": [
       "\u001b[1mModel: \"sequential\"\u001b[0m\n"
      ]
     },
     "metadata": {},
     "output_type": "display_data"
    },
    {
     "data": {
      "text/html": [
       "<pre style=\"white-space:pre;overflow-x:auto;line-height:normal;font-family:Menlo,'DejaVu Sans Mono',consolas,'Courier New',monospace\">┏━━━━━━━━━━━━━━━━━━━━━━━━━━━━━━━━━━━━━━┳━━━━━━━━━━━━━━━━━━━━━━━━━━━━━┳━━━━━━━━━━━━━━━━━┓\n",
       "┃<span style=\"font-weight: bold\"> Layer (type)                         </span>┃<span style=\"font-weight: bold\"> Output Shape                </span>┃<span style=\"font-weight: bold\">         Param # </span>┃\n",
       "┡━━━━━━━━━━━━━━━━━━━━━━━━━━━━━━━━━━━━━━╇━━━━━━━━━━━━━━━━━━━━━━━━━━━━━╇━━━━━━━━━━━━━━━━━┩\n",
       "│ conv2d (<span style=\"color: #0087ff; text-decoration-color: #0087ff\">Conv2D</span>)                      │ (<span style=\"color: #00d7ff; text-decoration-color: #00d7ff\">None</span>, <span style=\"color: #00af00; text-decoration-color: #00af00\">64</span>, <span style=\"color: #00af00; text-decoration-color: #00af00\">64</span>, <span style=\"color: #00af00; text-decoration-color: #00af00\">32</span>)          │             <span style=\"color: #00af00; text-decoration-color: #00af00\">320</span> │\n",
       "├──────────────────────────────────────┼─────────────────────────────┼─────────────────┤\n",
       "│ max_pooling2d (<span style=\"color: #0087ff; text-decoration-color: #0087ff\">MaxPooling2D</span>)         │ (<span style=\"color: #00d7ff; text-decoration-color: #00d7ff\">None</span>, <span style=\"color: #00af00; text-decoration-color: #00af00\">32</span>, <span style=\"color: #00af00; text-decoration-color: #00af00\">32</span>, <span style=\"color: #00af00; text-decoration-color: #00af00\">32</span>)          │               <span style=\"color: #00af00; text-decoration-color: #00af00\">0</span> │\n",
       "├──────────────────────────────────────┼─────────────────────────────┼─────────────────┤\n",
       "│ conv2d_1 (<span style=\"color: #0087ff; text-decoration-color: #0087ff\">Conv2D</span>)                    │ (<span style=\"color: #00d7ff; text-decoration-color: #00d7ff\">None</span>, <span style=\"color: #00af00; text-decoration-color: #00af00\">32</span>, <span style=\"color: #00af00; text-decoration-color: #00af00\">32</span>, <span style=\"color: #00af00; text-decoration-color: #00af00\">64</span>)          │          <span style=\"color: #00af00; text-decoration-color: #00af00\">18,496</span> │\n",
       "├──────────────────────────────────────┼─────────────────────────────┼─────────────────┤\n",
       "│ max_pooling2d_1 (<span style=\"color: #0087ff; text-decoration-color: #0087ff\">MaxPooling2D</span>)       │ (<span style=\"color: #00d7ff; text-decoration-color: #00d7ff\">None</span>, <span style=\"color: #00af00; text-decoration-color: #00af00\">16</span>, <span style=\"color: #00af00; text-decoration-color: #00af00\">16</span>, <span style=\"color: #00af00; text-decoration-color: #00af00\">64</span>)          │               <span style=\"color: #00af00; text-decoration-color: #00af00\">0</span> │\n",
       "├──────────────────────────────────────┼─────────────────────────────┼─────────────────┤\n",
       "│ conv2d_2 (<span style=\"color: #0087ff; text-decoration-color: #0087ff\">Conv2D</span>)                    │ (<span style=\"color: #00d7ff; text-decoration-color: #00d7ff\">None</span>, <span style=\"color: #00af00; text-decoration-color: #00af00\">16</span>, <span style=\"color: #00af00; text-decoration-color: #00af00\">16</span>, <span style=\"color: #00af00; text-decoration-color: #00af00\">64</span>)          │          <span style=\"color: #00af00; text-decoration-color: #00af00\">36,928</span> │\n",
       "├──────────────────────────────────────┼─────────────────────────────┼─────────────────┤\n",
       "│ max_pooling2d_2 (<span style=\"color: #0087ff; text-decoration-color: #0087ff\">MaxPooling2D</span>)       │ (<span style=\"color: #00d7ff; text-decoration-color: #00d7ff\">None</span>, <span style=\"color: #00af00; text-decoration-color: #00af00\">8</span>, <span style=\"color: #00af00; text-decoration-color: #00af00\">8</span>, <span style=\"color: #00af00; text-decoration-color: #00af00\">64</span>)            │               <span style=\"color: #00af00; text-decoration-color: #00af00\">0</span> │\n",
       "├──────────────────────────────────────┼─────────────────────────────┼─────────────────┤\n",
       "│ flatten (<span style=\"color: #0087ff; text-decoration-color: #0087ff\">Flatten</span>)                    │ (<span style=\"color: #00d7ff; text-decoration-color: #00d7ff\">None</span>, <span style=\"color: #00af00; text-decoration-color: #00af00\">4096</span>)                │               <span style=\"color: #00af00; text-decoration-color: #00af00\">0</span> │\n",
       "├──────────────────────────────────────┼─────────────────────────────┼─────────────────┤\n",
       "│ dense (<span style=\"color: #0087ff; text-decoration-color: #0087ff\">Dense</span>)                        │ (<span style=\"color: #00d7ff; text-decoration-color: #00d7ff\">None</span>, <span style=\"color: #00af00; text-decoration-color: #00af00\">128</span>)                 │         <span style=\"color: #00af00; text-decoration-color: #00af00\">524,416</span> │\n",
       "├──────────────────────────────────────┼─────────────────────────────┼─────────────────┤\n",
       "│ dropout (<span style=\"color: #0087ff; text-decoration-color: #0087ff\">Dropout</span>)                    │ (<span style=\"color: #00d7ff; text-decoration-color: #00d7ff\">None</span>, <span style=\"color: #00af00; text-decoration-color: #00af00\">128</span>)                 │               <span style=\"color: #00af00; text-decoration-color: #00af00\">0</span> │\n",
       "├──────────────────────────────────────┼─────────────────────────────┼─────────────────┤\n",
       "│ dense_1 (<span style=\"color: #0087ff; text-decoration-color: #0087ff\">Dense</span>)                      │ (<span style=\"color: #00d7ff; text-decoration-color: #00d7ff\">None</span>, <span style=\"color: #00af00; text-decoration-color: #00af00\">1</span>)                   │             <span style=\"color: #00af00; text-decoration-color: #00af00\">129</span> │\n",
       "└──────────────────────────────────────┴─────────────────────────────┴─────────────────┘\n",
       "</pre>\n"
      ],
      "text/plain": [
       "┏━━━━━━━━━━━━━━━━━━━━━━━━━━━━━━━━━━━━━━┳━━━━━━━━━━━━━━━━━━━━━━━━━━━━━┳━━━━━━━━━━━━━━━━━┓\n",
       "┃\u001b[1m \u001b[0m\u001b[1mLayer (type)                        \u001b[0m\u001b[1m \u001b[0m┃\u001b[1m \u001b[0m\u001b[1mOutput Shape               \u001b[0m\u001b[1m \u001b[0m┃\u001b[1m \u001b[0m\u001b[1m        Param #\u001b[0m\u001b[1m \u001b[0m┃\n",
       "┡━━━━━━━━━━━━━━━━━━━━━━━━━━━━━━━━━━━━━━╇━━━━━━━━━━━━━━━━━━━━━━━━━━━━━╇━━━━━━━━━━━━━━━━━┩\n",
       "│ conv2d (\u001b[38;5;33mConv2D\u001b[0m)                      │ (\u001b[38;5;45mNone\u001b[0m, \u001b[38;5;34m64\u001b[0m, \u001b[38;5;34m64\u001b[0m, \u001b[38;5;34m32\u001b[0m)          │             \u001b[38;5;34m320\u001b[0m │\n",
       "├──────────────────────────────────────┼─────────────────────────────┼─────────────────┤\n",
       "│ max_pooling2d (\u001b[38;5;33mMaxPooling2D\u001b[0m)         │ (\u001b[38;5;45mNone\u001b[0m, \u001b[38;5;34m32\u001b[0m, \u001b[38;5;34m32\u001b[0m, \u001b[38;5;34m32\u001b[0m)          │               \u001b[38;5;34m0\u001b[0m │\n",
       "├──────────────────────────────────────┼─────────────────────────────┼─────────────────┤\n",
       "│ conv2d_1 (\u001b[38;5;33mConv2D\u001b[0m)                    │ (\u001b[38;5;45mNone\u001b[0m, \u001b[38;5;34m32\u001b[0m, \u001b[38;5;34m32\u001b[0m, \u001b[38;5;34m64\u001b[0m)          │          \u001b[38;5;34m18,496\u001b[0m │\n",
       "├──────────────────────────────────────┼─────────────────────────────┼─────────────────┤\n",
       "│ max_pooling2d_1 (\u001b[38;5;33mMaxPooling2D\u001b[0m)       │ (\u001b[38;5;45mNone\u001b[0m, \u001b[38;5;34m16\u001b[0m, \u001b[38;5;34m16\u001b[0m, \u001b[38;5;34m64\u001b[0m)          │               \u001b[38;5;34m0\u001b[0m │\n",
       "├──────────────────────────────────────┼─────────────────────────────┼─────────────────┤\n",
       "│ conv2d_2 (\u001b[38;5;33mConv2D\u001b[0m)                    │ (\u001b[38;5;45mNone\u001b[0m, \u001b[38;5;34m16\u001b[0m, \u001b[38;5;34m16\u001b[0m, \u001b[38;5;34m64\u001b[0m)          │          \u001b[38;5;34m36,928\u001b[0m │\n",
       "├──────────────────────────────────────┼─────────────────────────────┼─────────────────┤\n",
       "│ max_pooling2d_2 (\u001b[38;5;33mMaxPooling2D\u001b[0m)       │ (\u001b[38;5;45mNone\u001b[0m, \u001b[38;5;34m8\u001b[0m, \u001b[38;5;34m8\u001b[0m, \u001b[38;5;34m64\u001b[0m)            │               \u001b[38;5;34m0\u001b[0m │\n",
       "├──────────────────────────────────────┼─────────────────────────────┼─────────────────┤\n",
       "│ flatten (\u001b[38;5;33mFlatten\u001b[0m)                    │ (\u001b[38;5;45mNone\u001b[0m, \u001b[38;5;34m4096\u001b[0m)                │               \u001b[38;5;34m0\u001b[0m │\n",
       "├──────────────────────────────────────┼─────────────────────────────┼─────────────────┤\n",
       "│ dense (\u001b[38;5;33mDense\u001b[0m)                        │ (\u001b[38;5;45mNone\u001b[0m, \u001b[38;5;34m128\u001b[0m)                 │         \u001b[38;5;34m524,416\u001b[0m │\n",
       "├──────────────────────────────────────┼─────────────────────────────┼─────────────────┤\n",
       "│ dropout (\u001b[38;5;33mDropout\u001b[0m)                    │ (\u001b[38;5;45mNone\u001b[0m, \u001b[38;5;34m128\u001b[0m)                 │               \u001b[38;5;34m0\u001b[0m │\n",
       "├──────────────────────────────────────┼─────────────────────────────┼─────────────────┤\n",
       "│ dense_1 (\u001b[38;5;33mDense\u001b[0m)                      │ (\u001b[38;5;45mNone\u001b[0m, \u001b[38;5;34m1\u001b[0m)                   │             \u001b[38;5;34m129\u001b[0m │\n",
       "└──────────────────────────────────────┴─────────────────────────────┴─────────────────┘\n"
      ]
     },
     "metadata": {},
     "output_type": "display_data"
    },
    {
     "data": {
      "text/html": [
       "<pre style=\"white-space:pre;overflow-x:auto;line-height:normal;font-family:Menlo,'DejaVu Sans Mono',consolas,'Courier New',monospace\"><span style=\"font-weight: bold\"> Total params: </span><span style=\"color: #00af00; text-decoration-color: #00af00\">580,289</span> (2.21 MB)\n",
       "</pre>\n"
      ],
      "text/plain": [
       "\u001b[1m Total params: \u001b[0m\u001b[38;5;34m580,289\u001b[0m (2.21 MB)\n"
      ]
     },
     "metadata": {},
     "output_type": "display_data"
    },
    {
     "data": {
      "text/html": [
       "<pre style=\"white-space:pre;overflow-x:auto;line-height:normal;font-family:Menlo,'DejaVu Sans Mono',consolas,'Courier New',monospace\"><span style=\"font-weight: bold\"> Trainable params: </span><span style=\"color: #00af00; text-decoration-color: #00af00\">580,289</span> (2.21 MB)\n",
       "</pre>\n"
      ],
      "text/plain": [
       "\u001b[1m Trainable params: \u001b[0m\u001b[38;5;34m580,289\u001b[0m (2.21 MB)\n"
      ]
     },
     "metadata": {},
     "output_type": "display_data"
    },
    {
     "data": {
      "text/html": [
       "<pre style=\"white-space:pre;overflow-x:auto;line-height:normal;font-family:Menlo,'DejaVu Sans Mono',consolas,'Courier New',monospace\"><span style=\"font-weight: bold\"> Non-trainable params: </span><span style=\"color: #00af00; text-decoration-color: #00af00\">0</span> (0.00 B)\n",
       "</pre>\n"
      ],
      "text/plain": [
       "\u001b[1m Non-trainable params: \u001b[0m\u001b[38;5;34m0\u001b[0m (0.00 B)\n"
      ]
     },
     "metadata": {},
     "output_type": "display_data"
    }
   ],
   "source": [
    "# view model summary\n",
    "model.summary()"
   ]
  },
  {
   "cell_type": "markdown",
   "id": "6c8597d4",
   "metadata": {},
   "source": [
    "## Train the model"
   ]
  },
  {
   "cell_type": "code",
   "execution_count": 14,
   "id": "56064b11",
   "metadata": {},
   "outputs": [
    {
     "name": "stdout",
     "output_type": "stream",
     "text": [
      "Epoch 1/30\n",
      "\u001b[1m23/23\u001b[0m \u001b[32m━━━━━━━━━━━━━━━━━━━━\u001b[0m\u001b[37m\u001b[0m \u001b[1m8s\u001b[0m 103ms/step - accuracy: 0.4991 - loss: 0.6936 - val_accuracy: 0.4510 - val_loss: 0.6934\n",
      "Epoch 2/30\n",
      "\u001b[1m23/23\u001b[0m \u001b[32m━━━━━━━━━━━━━━━━━━━━\u001b[0m\u001b[37m\u001b[0m \u001b[1m2s\u001b[0m 71ms/step - accuracy: 0.5501 - loss: 0.6931 - val_accuracy: 0.5490 - val_loss: 0.6928\n",
      "Epoch 3/30\n",
      "\u001b[1m23/23\u001b[0m \u001b[32m━━━━━━━━━━━━━━━━━━━━\u001b[0m\u001b[37m\u001b[0m \u001b[1m2s\u001b[0m 76ms/step - accuracy: 0.4930 - loss: 0.6932 - val_accuracy: 0.4510 - val_loss: 0.6936\n",
      "Epoch 4/30\n",
      "\u001b[1m23/23\u001b[0m \u001b[32m━━━━━━━━━━━━━━━━━━━━\u001b[0m\u001b[37m\u001b[0m \u001b[1m2s\u001b[0m 73ms/step - accuracy: 0.5019 - loss: 0.6931 - val_accuracy: 0.4510 - val_loss: 0.6936\n",
      "Epoch 5/30\n",
      "\u001b[1m23/23\u001b[0m \u001b[32m━━━━━━━━━━━━━━━━━━━━\u001b[0m\u001b[37m\u001b[0m \u001b[1m2s\u001b[0m 76ms/step - accuracy: 0.4837 - loss: 0.6934 - val_accuracy: 0.4510 - val_loss: 0.6934\n",
      "Epoch 6/30\n",
      "\u001b[1m23/23\u001b[0m \u001b[32m━━━━━━━━━━━━━━━━━━━━\u001b[0m\u001b[37m\u001b[0m \u001b[1m2s\u001b[0m 71ms/step - accuracy: 0.5348 - loss: 0.6929 - val_accuracy: 0.4510 - val_loss: 0.6937\n",
      "Epoch 7/30\n",
      "\u001b[1m23/23\u001b[0m \u001b[32m━━━━━━━━━━━━━━━━━━━━\u001b[0m\u001b[37m\u001b[0m \u001b[1m2s\u001b[0m 72ms/step - accuracy: 0.5049 - loss: 0.6930 - val_accuracy: 0.4510 - val_loss: 0.6937\n",
      "Epoch 8/30\n",
      "\u001b[1m23/23\u001b[0m \u001b[32m━━━━━━━━━━━━━━━━━━━━\u001b[0m\u001b[37m\u001b[0m \u001b[1m2s\u001b[0m 73ms/step - accuracy: 0.4956 - loss: 0.6930 - val_accuracy: 0.4510 - val_loss: 0.6935\n",
      "Epoch 9/30\n",
      "\u001b[1m23/23\u001b[0m \u001b[32m━━━━━━━━━━━━━━━━━━━━\u001b[0m\u001b[37m\u001b[0m \u001b[1m2s\u001b[0m 70ms/step - accuracy: 0.4824 - loss: 0.6933 - val_accuracy: 0.4510 - val_loss: 0.6937\n",
      "Epoch 10/30\n",
      "\u001b[1m23/23\u001b[0m \u001b[32m━━━━━━━━━━━━━━━━━━━━\u001b[0m\u001b[37m\u001b[0m \u001b[1m2s\u001b[0m 73ms/step - accuracy: 0.5026 - loss: 0.6932 - val_accuracy: 0.4510 - val_loss: 0.6940\n",
      "Epoch 11/30\n",
      "\u001b[1m23/23\u001b[0m \u001b[32m━━━━━━━━━━━━━━━━━━━━\u001b[0m\u001b[37m\u001b[0m \u001b[1m2s\u001b[0m 69ms/step - accuracy: 0.5312 - loss: 0.6929 - val_accuracy: 0.4510 - val_loss: 0.6938\n",
      "Epoch 12/30\n",
      "\u001b[1m23/23\u001b[0m \u001b[32m━━━━━━━━━━━━━━━━━━━━\u001b[0m\u001b[37m\u001b[0m \u001b[1m2s\u001b[0m 71ms/step - accuracy: 0.4785 - loss: 0.6930 - val_accuracy: 0.4510 - val_loss: 0.6933\n",
      "Epoch 13/30\n",
      "\u001b[1m23/23\u001b[0m \u001b[32m━━━━━━━━━━━━━━━━━━━━\u001b[0m\u001b[37m\u001b[0m \u001b[1m2s\u001b[0m 72ms/step - accuracy: 0.4859 - loss: 0.6932 - val_accuracy: 0.4510 - val_loss: 0.6933\n",
      "Epoch 14/30\n",
      "\u001b[1m23/23\u001b[0m \u001b[32m━━━━━━━━━━━━━━━━━━━━\u001b[0m\u001b[37m\u001b[0m \u001b[1m2s\u001b[0m 75ms/step - accuracy: 0.5002 - loss: 0.6932 - val_accuracy: 0.4510 - val_loss: 0.6934\n",
      "Epoch 15/30\n",
      "\u001b[1m23/23\u001b[0m \u001b[32m━━━━━━━━━━━━━━━━━━━━\u001b[0m\u001b[37m\u001b[0m \u001b[1m2s\u001b[0m 73ms/step - accuracy: 0.5199 - loss: 0.6929 - val_accuracy: 0.4510 - val_loss: 0.6933\n",
      "Epoch 16/30\n",
      "\u001b[1m23/23\u001b[0m \u001b[32m━━━━━━━━━━━━━━━━━━━━\u001b[0m\u001b[37m\u001b[0m \u001b[1m2s\u001b[0m 77ms/step - accuracy: 0.5057 - loss: 0.6930 - val_accuracy: 0.4510 - val_loss: 0.6935\n",
      "Epoch 17/30\n",
      "\u001b[1m23/23\u001b[0m \u001b[32m━━━━━━━━━━━━━━━━━━━━\u001b[0m\u001b[37m\u001b[0m \u001b[1m2s\u001b[0m 76ms/step - accuracy: 0.5010 - loss: 0.6930 - val_accuracy: 0.4510 - val_loss: 0.6933\n",
      "Epoch 18/30\n",
      "\u001b[1m23/23\u001b[0m \u001b[32m━━━━━━━━━━━━━━━━━━━━\u001b[0m\u001b[37m\u001b[0m \u001b[1m2s\u001b[0m 75ms/step - accuracy: 0.4481 - loss: 0.6936 - val_accuracy: 0.4510 - val_loss: 0.6934\n",
      "Epoch 19/30\n",
      "\u001b[1m23/23\u001b[0m \u001b[32m━━━━━━━━━━━━━━━━━━━━\u001b[0m\u001b[37m\u001b[0m \u001b[1m2s\u001b[0m 78ms/step - accuracy: 0.5014 - loss: 0.6931 - val_accuracy: 0.4510 - val_loss: 0.6937\n",
      "Epoch 20/30\n",
      "\u001b[1m23/23\u001b[0m \u001b[32m━━━━━━━━━━━━━━━━━━━━\u001b[0m\u001b[37m\u001b[0m \u001b[1m2s\u001b[0m 71ms/step - accuracy: 0.5362 - loss: 0.6927 - val_accuracy: 0.4510 - val_loss: 0.6941\n",
      "Epoch 21/30\n",
      "\u001b[1m23/23\u001b[0m \u001b[32m━━━━━━━━━━━━━━━━━━━━\u001b[0m\u001b[37m\u001b[0m \u001b[1m2s\u001b[0m 75ms/step - accuracy: 0.5141 - loss: 0.6928 - val_accuracy: 0.4510 - val_loss: 0.6940\n",
      "Epoch 22/30\n",
      "\u001b[1m23/23\u001b[0m \u001b[32m━━━━━━━━━━━━━━━━━━━━\u001b[0m\u001b[37m\u001b[0m \u001b[1m2s\u001b[0m 74ms/step - accuracy: 0.5171 - loss: 0.6931 - val_accuracy: 0.4510 - val_loss: 0.6938\n",
      "Epoch 23/30\n",
      "\u001b[1m23/23\u001b[0m \u001b[32m━━━━━━━━━━━━━━━━━━━━\u001b[0m\u001b[37m\u001b[0m \u001b[1m2s\u001b[0m 77ms/step - accuracy: 0.4882 - loss: 0.6933 - val_accuracy: 0.4510 - val_loss: 0.6937\n",
      "Epoch 24/30\n",
      "\u001b[1m23/23\u001b[0m \u001b[32m━━━━━━━━━━━━━━━━━━━━\u001b[0m\u001b[37m\u001b[0m \u001b[1m2s\u001b[0m 76ms/step - accuracy: 0.4950 - loss: 0.6931 - val_accuracy: 0.4510 - val_loss: 0.6939\n",
      "Epoch 25/30\n",
      "\u001b[1m23/23\u001b[0m \u001b[32m━━━━━━━━━━━━━━━━━━━━\u001b[0m\u001b[37m\u001b[0m \u001b[1m2s\u001b[0m 73ms/step - accuracy: 0.4865 - loss: 0.6935 - val_accuracy: 0.4510 - val_loss: 0.6938\n",
      "Epoch 26/30\n",
      "\u001b[1m23/23\u001b[0m \u001b[32m━━━━━━━━━━━━━━━━━━━━\u001b[0m\u001b[37m\u001b[0m \u001b[1m2s\u001b[0m 66ms/step - accuracy: 0.5536 - loss: 0.6928 - val_accuracy: 0.4510 - val_loss: 0.6938\n",
      "Epoch 27/30\n",
      "\u001b[1m23/23\u001b[0m \u001b[32m━━━━━━━━━━━━━━━━━━━━\u001b[0m\u001b[37m\u001b[0m \u001b[1m2s\u001b[0m 68ms/step - accuracy: 0.4917 - loss: 0.6936 - val_accuracy: 0.4510 - val_loss: 0.6938\n",
      "Epoch 28/30\n",
      "\u001b[1m23/23\u001b[0m \u001b[32m━━━━━━━━━━━━━━━━━━━━\u001b[0m\u001b[37m\u001b[0m \u001b[1m2s\u001b[0m 75ms/step - accuracy: 0.5075 - loss: 0.6930 - val_accuracy: 0.4510 - val_loss: 0.6937\n",
      "Epoch 29/30\n",
      "\u001b[1m23/23\u001b[0m \u001b[32m━━━━━━━━━━━━━━━━━━━━\u001b[0m\u001b[37m\u001b[0m \u001b[1m2s\u001b[0m 77ms/step - accuracy: 0.4838 - loss: 0.6928 - val_accuracy: 0.4510 - val_loss: 0.6937\n",
      "Epoch 30/30\n",
      "\u001b[1m23/23\u001b[0m \u001b[32m━━━━━━━━━━━━━━━━━━━━\u001b[0m\u001b[37m\u001b[0m \u001b[1m2s\u001b[0m 74ms/step - accuracy: 0.4760 - loss: 0.6933 - val_accuracy: 0.4510 - val_loss: 0.6936\n"
     ]
    }
   ],
   "source": [
    "# Train the model\n",
    "history = model.fit(X_train, y_train, epochs=30, validation_data=(X_val, y_val), batch_size=32)"
   ]
  },
  {
   "cell_type": "markdown",
   "id": "ebd80fff",
   "metadata": {},
   "source": [
    "# Evaluate the model on validation data"
   ]
  },
  {
   "cell_type": "code",
   "execution_count": 15,
   "id": "988a2220",
   "metadata": {},
   "outputs": [
    {
     "name": "stdout",
     "output_type": "stream",
     "text": [
      "\u001b[1m5/5\u001b[0m \u001b[32m━━━━━━━━━━━━━━━━━━━━\u001b[0m\u001b[37m\u001b[0m \u001b[1m0s\u001b[0m 20ms/step - accuracy: 0.4437 - loss: 0.6936\n"
     ]
    },
    {
     "data": {
      "text/plain": [
       "[0.6935809850692749, 0.45098039507865906]"
      ]
     },
     "execution_count": 15,
     "metadata": {},
     "output_type": "execute_result"
    }
   ],
   "source": [
    "# Evaluate the model - validation accuracy and loss\n",
    "model.evaluate(X_val, y_val)"
   ]
  },
  {
   "cell_type": "markdown",
   "id": "2ee851f1",
   "metadata": {},
   "source": [
    "### Insights\n",
    "- Poor performance low accuracy for validation data as well as training data"
   ]
  },
  {
   "cell_type": "code",
   "execution_count": 16,
   "id": "1e4f044d",
   "metadata": {},
   "outputs": [
    {
     "name": "stdout",
     "output_type": "stream",
     "text": [
      "\u001b[1m23/23\u001b[0m \u001b[32m━━━━━━━━━━━━━━━━━━━━\u001b[0m\u001b[37m\u001b[0m \u001b[1m1s\u001b[0m 24ms/step - accuracy: 0.4947 - loss: 0.6932\n"
     ]
    },
    {
     "data": {
      "text/plain": [
       "[0.6931444406509399, 0.5014045238494873]"
      ]
     },
     "execution_count": 16,
     "metadata": {},
     "output_type": "execute_result"
    }
   ],
   "source": [
    "# Training accuracy and loss\n",
    "model.evaluate(X_train, y_train)"
   ]
  },
  {
   "cell_type": "markdown",
   "id": "8db7477c",
   "metadata": {},
   "source": [
    "# Training & Validation Loss plotted against number of Epochs"
   ]
  },
  {
   "cell_type": "code",
   "execution_count": 20,
   "id": "23d586da",
   "metadata": {
    "scrolled": true
   },
   "outputs": [
    {
     "data": {
      "image/png": "[encoded data removed]",
      "text/plain": [
       "<Figure size 1000x800 with 1 Axes>"
      ]
     },
     "metadata": {},
     "output_type": "display_data"
    }
   ],
   "source": [
    "N= np.arange(0,30)\n",
    "plt.style.use('ggplot')\n",
    "plt.figure(figsize=(10,8))\n",
    "plt.plot(N,history.history['loss'],label='train_loss')\n",
    "plt.plot(N,history.history['val_loss'],label='val_loss')\n",
    "plt.title('ANN: Training and Validation Loss')\n",
    "plt.xlabel('Epoch #',weight='bold')\n",
    "plt.ylabel('Loss',weight='bold')\n",
    "plt.legend()\n",
    "plt.show();"
   ]
  },
  {
   "cell_type": "markdown",
   "id": "26ad2ceb",
   "metadata": {},
   "source": [
    "### Insights\n",
    "- A good model should have a smooth decreasing training loss and a close by decreasing validation loss\n",
    "- A good model should have less fluctuations\n",
    "- In the following model has lot of fluctuations in train and validation loss, thus not a optimal model we need to tune the model to improve performance"
   ]
  },
  {
   "cell_type": "markdown",
   "id": "19f872f5",
   "metadata": {},
   "source": [
    "# Training & Validation Accuracy plotted against number of Epochs"
   ]
  },
  {
   "cell_type": "code",
   "execution_count": 21,
   "id": "29142528",
   "metadata": {
    "scrolled": true
   },
   "outputs": [
    {
     "data": {
      "image/png": "[encoded data removed]",
      "text/plain": [
       "<Figure size 1000x800 with 1 Axes>"
      ]
     },
     "metadata": {},
     "output_type": "display_data"
    }
   ],
   "source": [
    "N= np.arange(0,30)\n",
    "plt.style.use('ggplot')\n",
    "plt.figure(figsize=(10,8))\n",
    "plt.plot(N,history.history['accuracy'],label='train_acc')\n",
    "plt.plot(N,history.history['val_accuracy'],label='val_acc')\n",
    "plt.title('ANN: Training and Validation Accuracy')\n",
    "plt.xlabel('Epoch #',weight='bold')\n",
    "plt.ylabel('Accuracy',weight='bold')\n",
    "plt.legend()\n",
    "plt.show()"
   ]
  },
  {
   "cell_type": "markdown",
   "id": "ae7879ae",
   "metadata": {},
   "source": [
    "### Insights\n",
    "- A good model should have a smooth increasing training accuracy and a close by increasing validation accuracy values\n",
    "- A good model should have less fluctuations\n",
    "- In the following model validation accuracy is constant and a not a smooth increasing curve in train and validation accuracy, thus not a optimal model we need to tune the model to improve performance\n",
    "- there are high fluctuations in validation accuracy so not a suitable model"
   ]
  },
  {
   "cell_type": "markdown",
   "id": "162833a9",
   "metadata": {},
   "source": [
    "# Prediction on test data using CNN model"
   ]
  },
  {
   "cell_type": "code",
   "execution_count": 22,
   "id": "c0eb5711",
   "metadata": {},
   "outputs": [
    {
     "name": "stdout",
     "output_type": "stream",
     "text": [
      "\u001b[1m5/5\u001b[0m \u001b[32m━━━━━━━━━━━━━━━━━━━━\u001b[0m\u001b[37m\u001b[0m \u001b[1m0s\u001b[0m 51ms/step\n"
     ]
    }
   ],
   "source": [
    "y_pred= model.predict(X_test)"
   ]
  },
  {
   "cell_type": "markdown",
   "id": "163e158d",
   "metadata": {},
   "source": [
    "# Evaluate the model on test data (unseen data)"
   ]
  },
  {
   "cell_type": "code",
   "execution_count": 23,
   "id": "4fa586d0",
   "metadata": {},
   "outputs": [
    {
     "name": "stdout",
     "output_type": "stream",
     "text": [
      "[[ 0 70]\n",
      " [ 0 83]]\n"
     ]
    }
   ],
   "source": [
    "from sklearn.metrics import confusion_matrix, classification_report,accuracy_score\n",
    "# Since the output is probabilistic, use a threshold to convert to binary (0 or 1)\n",
    "y_pred = np.round(y_pred).astype(int)  # Convert to 0s and 1s based on a threshold of 0.5\n",
    "\n",
    "# 2. Generate the confusion matrix\n",
    "conf_matrix = confusion_matrix(y_test, y_pred)\n",
    "\n",
    "print(conf_matrix)"
   ]
  },
  {
   "cell_type": "code",
   "execution_count": 24,
   "id": "93d6a4a8",
   "metadata": {},
   "outputs": [
    {
     "name": "stdout",
     "output_type": "stream",
     "text": [
      "              precision    recall  f1-score   support\n",
      "\n",
      "           0       0.00      0.00      0.00        70\n",
      "           1       0.54      1.00      0.70        83\n",
      "\n",
      "    accuracy                           0.54       153\n",
      "   macro avg       0.27      0.50      0.35       153\n",
      "weighted avg       0.29      0.54      0.38       153\n",
      "\n",
      "Accuracy of the model:  0.5424836601307189\n"
     ]
    },
    {
     "name": "stderr",
     "output_type": "stream",
     "text": [
      "C:\\Users\\Admin\\anaconda3\\Lib\\site-packages\\sklearn\\metrics\\_classification.py:1344: UndefinedMetricWarning: Precision and F-score are ill-defined and being set to 0.0 in labels with no predicted samples. Use `zero_division` parameter to control this behavior.\n",
      "  _warn_prf(average, modifier, msg_start, len(result))\n",
      "C:\\Users\\Admin\\anaconda3\\Lib\\site-packages\\sklearn\\metrics\\_classification.py:1344: UndefinedMetricWarning: Precision and F-score are ill-defined and being set to 0.0 in labels with no predicted samples. Use `zero_division` parameter to control this behavior.\n",
      "  _warn_prf(average, modifier, msg_start, len(result))\n",
      "C:\\Users\\Admin\\anaconda3\\Lib\\site-packages\\sklearn\\metrics\\_classification.py:1344: UndefinedMetricWarning: Precision and F-score are ill-defined and being set to 0.0 in labels with no predicted samples. Use `zero_division` parameter to control this behavior.\n",
      "  _warn_prf(average, modifier, msg_start, len(result))\n"
     ]
    }
   ],
   "source": [
    "print(classification_report(y_test,y_pred))\n",
    " \n",
    "acc=accuracy_score(y_test, y_pred)\n",
    "print(\"Accuracy of the model: \",acc)"
   ]
  },
  {
   "cell_type": "markdown",
   "id": "535c36ba",
   "metadata": {},
   "source": [
    "## Insights:\n",
    "- The model is predicting all the images as Class 1 means as closed eyes which is incorrect.\n",
    "- The Class 0 has 0 recall, thus there is a need to tune the model as model is learning on only Class 1"
   ]
  },
  {
   "cell_type": "markdown",
   "id": "177eb789",
   "metadata": {},
   "source": [
    "# Tunning the model\n",
    "### testing all the below steps to get optimal model\n",
    "1. step 1 - increase dataset size from 224 images of each class to 509 images of each class total 1018 images\n",
    "2. step 2 - adding padding to convolutional layer to avoid shrinkage of image\n",
    "- still no improvement\n",
    "3. Step 3- image size changed to 80,80\n",
    "4. Step 4- SMOTE upsampling minority class\n",
    "5. Step 5- balance weights assigned to each class while training\n",
    "- trying all approached on the below model by editing code\n",
    "### Trying to handle underfitting\n",
    "6. Step 6- reduce to learning rate from 0.001 to 0.0001\n",
    "7. Step 7- increased epochs from 30 to 50"
   ]
  },
  {
   "cell_type": "markdown",
   "id": "fffd1fbd",
   "metadata": {},
   "source": [
    "## Increased dataset size and reloaded X and Y"
   ]
  },
  {
   "cell_type": "code",
   "execution_count": 30,
   "id": "9ef2f7b5",
   "metadata": {},
   "outputs": [],
   "source": [
    "# Image size\n",
    "IMG_SIZE = (80, 80)"
   ]
  },
  {
   "cell_type": "code",
   "execution_count": 31,
   "id": "f6ebe492",
   "metadata": {},
   "outputs": [],
   "source": [
    "X1, y1 = load_data()"
   ]
  },
  {
   "cell_type": "code",
   "execution_count": 32,
   "id": "b605d492",
   "metadata": {},
   "outputs": [
    {
     "name": "stdout",
     "output_type": "stream",
     "text": [
      "(1018, 80, 80)\n",
      "(1018,)\n"
     ]
    }
   ],
   "source": [
    "print(X1.shape)\n",
    "print(y1.shape)"
   ]
  },
  {
   "cell_type": "markdown",
   "id": "a9f733c0",
   "metadata": {},
   "source": [
    "## Normalize the image data"
   ]
  },
  {
   "cell_type": "code",
   "execution_count": 33,
   "id": "b2e09349",
   "metadata": {},
   "outputs": [],
   "source": [
    "# Normalize the image data\n",
    "X1 = X1 / 255.0"
   ]
  },
  {
   "cell_type": "markdown",
   "id": "4776010b",
   "metadata": {},
   "source": [
    "# Train-validation-test split (splitting data in 3 sets)"
   ]
  },
  {
   "cell_type": "code",
   "execution_count": 34,
   "id": "72c454cd",
   "metadata": {},
   "outputs": [],
   "source": [
    "from sklearn.model_selection import train_test_split\n",
    "\n",
    "# Split into train, validation, and test sets\n",
    "X_train1, X_temp1, y_train1, y_temp1 = train_test_split(X1, y1, test_size=0.3, random_state=42)\n",
    "X_val1, X_test1, y_val1, y_test1 = train_test_split(X_temp1, y_temp1, test_size=0.5, random_state=42)"
   ]
  },
  {
   "cell_type": "markdown",
   "id": "b2d185e4",
   "metadata": {},
   "source": [
    "# Preprocessing"
   ]
  },
  {
   "cell_type": "code",
   "execution_count": 41,
   "id": "c05b9721",
   "metadata": {},
   "outputs": [],
   "source": [
    "# Reshape images for CNN input (grayscale images, single channel)\n",
    "X_train1 = X_train1.reshape(-1, 80, 80, 1)\n",
    "X_val1 = X_val1.reshape(-1, 80, 80, 1)\n",
    "X_test1 = X_test1.reshape(-1, 80, 80, 1)"
   ]
  },
  {
   "cell_type": "code",
   "execution_count": 42,
   "id": "1765e428",
   "metadata": {},
   "outputs": [
    {
     "name": "stdout",
     "output_type": "stream",
     "text": [
      "(712, 80, 80, 1)\n",
      "(712,)\n",
      "(153, 80, 80, 1)\n",
      "(153,)\n"
     ]
    }
   ],
   "source": [
    "print(X_train1.shape)\n",
    "print(y_train1.shape)\n",
    "print(X_val1.shape)\n",
    "print(y_val1.shape)"
   ]
  },
  {
   "cell_type": "code",
   "execution_count": 43,
   "id": "16564835",
   "metadata": {},
   "outputs": [
    {
     "name": "stdout",
     "output_type": "stream",
     "text": [
      "(153, 80, 80, 1)\n",
      "(153,)\n"
     ]
    }
   ],
   "source": [
    "print(X_test1.shape)\n",
    "print(y_test1.shape)"
   ]
  },
  {
   "cell_type": "markdown",
   "id": "1ec6607b",
   "metadata": {},
   "source": [
    "# Define CNN Model Architechure"
   ]
  },
  {
   "cell_type": "markdown",
   "id": "01ea1b9d",
   "metadata": {},
   "source": [
    "## Model Tunning techniques:"
   ]
  },
  {
   "cell_type": "markdown",
   "id": "9ae061c9",
   "metadata": {},
   "source": [
    "## Adding Padding to Convolutional Layer to avoid shrinkage of image\n",
    "- There are two common types of padding:\n",
    "\n",
    "1. 'valid' padding (no padding): The feature map size reduces after each convolution.\n",
    "2. 'same' padding (zero padding): The output size remains the same as the input size."
   ]
  },
  {
   "cell_type": "markdown",
   "id": "06671d48",
   "metadata": {},
   "source": [
    "- By specifying padding='same', the output of the convolution will have the same width and height as the input. This is achieved by adding zero-padding to the input feature map so that after the convolution, the spatial dimensions are preserved.\n",
    "- In contrast, padding='valid' (the default) will perform convolution without any padding, leading to smaller output feature maps."
   ]
  },
  {
   "cell_type": "code",
   "execution_count": 134,
   "id": "7de58fef",
   "metadata": {},
   "outputs": [
    {
     "name": "stderr",
     "output_type": "stream",
     "text": [
      "C:\\Users\\Admin\\anaconda3\\Lib\\site-packages\\keras\\src\\layers\\convolutional\\base_conv.py:107: UserWarning: Do not pass an `input_shape`/`input_dim` argument to a layer. When using Sequential models, prefer using an `Input(shape)` object as the first layer in the model instead.\n",
      "  super().__init__(activity_regularizer=activity_regularizer, **kwargs)\n"
     ]
    }
   ],
   "source": [
    "# Model Architecture\n",
    "model1 = Sequential()\n",
    "\n",
    "# 1st Convolutional Layer\n",
    "model1.add(Conv2D(32, (3, 3), activation='relu', input_shape=(80, 80, 1), padding='same'))  # Grayscale images\n",
    "model1.add(MaxPooling2D(pool_size=(2, 2)))\n",
    "\n",
    "# 2nd Convolutional Layer\n",
    "model1.add(Conv2D(32, (3, 3), activation='relu', padding='same'))\n",
    "model1.add(MaxPooling2D(pool_size=(2, 2)))\n",
    "\n",
    "# 3rd Convolutional Layer\n",
    "model1.add(Conv2D(64, (3, 3), activation='relu', padding='same'))\n",
    "model1.add(MaxPooling2D(pool_size=(2, 2)))\n",
    "\n",
    "# Flattening the layers\n",
    "model1.add(Flatten())\n",
    "\n",
    "# Fully connected layer\n",
    "model1.add(Dense(128, activation='relu'))\n",
    "# Dropout to reduce overfitting\n",
    "#model1.add(Dropout(0.5))\n",
    "\n",
    "# Output layer with sigmoid activation for binary classification\n",
    "model1.add(Dense(1, activation='sigmoid'))"
   ]
  },
  {
   "cell_type": "markdown",
   "id": "4abde6a0",
   "metadata": {},
   "source": [
    "# Compile the model\n",
    "- Decrease the learning rate (0.0001) to overcome underfitting (tunning model steps)"
   ]
  },
  {
   "cell_type": "code",
   "execution_count": 135,
   "id": "ace483d8",
   "metadata": {},
   "outputs": [],
   "source": [
    "# Compile the model\n",
    "model1.compile(optimizer=Adam(learning_rate=0.0001), loss='binary_crossentropy', metrics=['accuracy'])"
   ]
  },
  {
   "cell_type": "code",
   "execution_count": 136,
   "id": "039f36bc",
   "metadata": {
    "scrolled": true
   },
   "outputs": [
    {
     "data": {
      "text/html": [
       "<pre style=\"white-space:pre;overflow-x:auto;line-height:normal;font-family:Menlo,'DejaVu Sans Mono',consolas,'Courier New',monospace\"><span style=\"font-weight: bold\">Model: \"sequential_9\"</span>\n",
       "</pre>\n"
      ],
      "text/plain": [
       "\u001b[1mModel: \"sequential_9\"\u001b[0m\n"
      ]
     },
     "metadata": {},
     "output_type": "display_data"
    },
    {
     "data": {
      "text/html": [
       "<pre style=\"white-space:pre;overflow-x:auto;line-height:normal;font-family:Menlo,'DejaVu Sans Mono',consolas,'Courier New',monospace\">┏━━━━━━━━━━━━━━━━━━━━━━━━━━━━━━━━━━━━━━┳━━━━━━━━━━━━━━━━━━━━━━━━━━━━━┳━━━━━━━━━━━━━━━━━┓\n",
       "┃<span style=\"font-weight: bold\"> Layer (type)                         </span>┃<span style=\"font-weight: bold\"> Output Shape                </span>┃<span style=\"font-weight: bold\">         Param # </span>┃\n",
       "┡━━━━━━━━━━━━━━━━━━━━━━━━━━━━━━━━━━━━━━╇━━━━━━━━━━━━━━━━━━━━━━━━━━━━━╇━━━━━━━━━━━━━━━━━┩\n",
       "│ conv2d_25 (<span style=\"color: #0087ff; text-decoration-color: #0087ff\">Conv2D</span>)                   │ (<span style=\"color: #00d7ff; text-decoration-color: #00d7ff\">None</span>, <span style=\"color: #00af00; text-decoration-color: #00af00\">80</span>, <span style=\"color: #00af00; text-decoration-color: #00af00\">80</span>, <span style=\"color: #00af00; text-decoration-color: #00af00\">32</span>)          │             <span style=\"color: #00af00; text-decoration-color: #00af00\">320</span> │\n",
       "├──────────────────────────────────────┼─────────────────────────────┼─────────────────┤\n",
       "│ max_pooling2d_25 (<span style=\"color: #0087ff; text-decoration-color: #0087ff\">MaxPooling2D</span>)      │ (<span style=\"color: #00d7ff; text-decoration-color: #00d7ff\">None</span>, <span style=\"color: #00af00; text-decoration-color: #00af00\">40</span>, <span style=\"color: #00af00; text-decoration-color: #00af00\">40</span>, <span style=\"color: #00af00; text-decoration-color: #00af00\">32</span>)          │               <span style=\"color: #00af00; text-decoration-color: #00af00\">0</span> │\n",
       "├──────────────────────────────────────┼─────────────────────────────┼─────────────────┤\n",
       "│ conv2d_26 (<span style=\"color: #0087ff; text-decoration-color: #0087ff\">Conv2D</span>)                   │ (<span style=\"color: #00d7ff; text-decoration-color: #00d7ff\">None</span>, <span style=\"color: #00af00; text-decoration-color: #00af00\">40</span>, <span style=\"color: #00af00; text-decoration-color: #00af00\">40</span>, <span style=\"color: #00af00; text-decoration-color: #00af00\">32</span>)          │           <span style=\"color: #00af00; text-decoration-color: #00af00\">9,248</span> │\n",
       "├──────────────────────────────────────┼─────────────────────────────┼─────────────────┤\n",
       "│ max_pooling2d_26 (<span style=\"color: #0087ff; text-decoration-color: #0087ff\">MaxPooling2D</span>)      │ (<span style=\"color: #00d7ff; text-decoration-color: #00d7ff\">None</span>, <span style=\"color: #00af00; text-decoration-color: #00af00\">20</span>, <span style=\"color: #00af00; text-decoration-color: #00af00\">20</span>, <span style=\"color: #00af00; text-decoration-color: #00af00\">32</span>)          │               <span style=\"color: #00af00; text-decoration-color: #00af00\">0</span> │\n",
       "├──────────────────────────────────────┼─────────────────────────────┼─────────────────┤\n",
       "│ conv2d_27 (<span style=\"color: #0087ff; text-decoration-color: #0087ff\">Conv2D</span>)                   │ (<span style=\"color: #00d7ff; text-decoration-color: #00d7ff\">None</span>, <span style=\"color: #00af00; text-decoration-color: #00af00\">20</span>, <span style=\"color: #00af00; text-decoration-color: #00af00\">20</span>, <span style=\"color: #00af00; text-decoration-color: #00af00\">64</span>)          │          <span style=\"color: #00af00; text-decoration-color: #00af00\">18,496</span> │\n",
       "├──────────────────────────────────────┼─────────────────────────────┼─────────────────┤\n",
       "│ max_pooling2d_27 (<span style=\"color: #0087ff; text-decoration-color: #0087ff\">MaxPooling2D</span>)      │ (<span style=\"color: #00d7ff; text-decoration-color: #00d7ff\">None</span>, <span style=\"color: #00af00; text-decoration-color: #00af00\">10</span>, <span style=\"color: #00af00; text-decoration-color: #00af00\">10</span>, <span style=\"color: #00af00; text-decoration-color: #00af00\">64</span>)          │               <span style=\"color: #00af00; text-decoration-color: #00af00\">0</span> │\n",
       "├──────────────────────────────────────┼─────────────────────────────┼─────────────────┤\n",
       "│ flatten_9 (<span style=\"color: #0087ff; text-decoration-color: #0087ff\">Flatten</span>)                  │ (<span style=\"color: #00d7ff; text-decoration-color: #00d7ff\">None</span>, <span style=\"color: #00af00; text-decoration-color: #00af00\">6400</span>)                │               <span style=\"color: #00af00; text-decoration-color: #00af00\">0</span> │\n",
       "├──────────────────────────────────────┼─────────────────────────────┼─────────────────┤\n",
       "│ dense_19 (<span style=\"color: #0087ff; text-decoration-color: #0087ff\">Dense</span>)                     │ (<span style=\"color: #00d7ff; text-decoration-color: #00d7ff\">None</span>, <span style=\"color: #00af00; text-decoration-color: #00af00\">128</span>)                 │         <span style=\"color: #00af00; text-decoration-color: #00af00\">819,328</span> │\n",
       "├──────────────────────────────────────┼─────────────────────────────┼─────────────────┤\n",
       "│ dense_20 (<span style=\"color: #0087ff; text-decoration-color: #0087ff\">Dense</span>)                     │ (<span style=\"color: #00d7ff; text-decoration-color: #00d7ff\">None</span>, <span style=\"color: #00af00; text-decoration-color: #00af00\">1</span>)                   │             <span style=\"color: #00af00; text-decoration-color: #00af00\">129</span> │\n",
       "└──────────────────────────────────────┴─────────────────────────────┴─────────────────┘\n",
       "</pre>\n"
      ],
      "text/plain": [
       "┏━━━━━━━━━━━━━━━━━━━━━━━━━━━━━━━━━━━━━━┳━━━━━━━━━━━━━━━━━━━━━━━━━━━━━┳━━━━━━━━━━━━━━━━━┓\n",
       "┃\u001b[1m \u001b[0m\u001b[1mLayer (type)                        \u001b[0m\u001b[1m \u001b[0m┃\u001b[1m \u001b[0m\u001b[1mOutput Shape               \u001b[0m\u001b[1m \u001b[0m┃\u001b[1m \u001b[0m\u001b[1m        Param #\u001b[0m\u001b[1m \u001b[0m┃\n",
       "┡━━━━━━━━━━━━━━━━━━━━━━━━━━━━━━━━━━━━━━╇━━━━━━━━━━━━━━━━━━━━━━━━━━━━━╇━━━━━━━━━━━━━━━━━┩\n",
       "│ conv2d_25 (\u001b[38;5;33mConv2D\u001b[0m)                   │ (\u001b[38;5;45mNone\u001b[0m, \u001b[38;5;34m80\u001b[0m, \u001b[38;5;34m80\u001b[0m, \u001b[38;5;34m32\u001b[0m)          │             \u001b[38;5;34m320\u001b[0m │\n",
       "├──────────────────────────────────────┼─────────────────────────────┼─────────────────┤\n",
       "│ max_pooling2d_25 (\u001b[38;5;33mMaxPooling2D\u001b[0m)      │ (\u001b[38;5;45mNone\u001b[0m, \u001b[38;5;34m40\u001b[0m, \u001b[38;5;34m40\u001b[0m, \u001b[38;5;34m32\u001b[0m)          │               \u001b[38;5;34m0\u001b[0m │\n",
       "├──────────────────────────────────────┼─────────────────────────────┼─────────────────┤\n",
       "│ conv2d_26 (\u001b[38;5;33mConv2D\u001b[0m)                   │ (\u001b[38;5;45mNone\u001b[0m, \u001b[38;5;34m40\u001b[0m, \u001b[38;5;34m40\u001b[0m, \u001b[38;5;34m32\u001b[0m)          │           \u001b[38;5;34m9,248\u001b[0m │\n",
       "├──────────────────────────────────────┼─────────────────────────────┼─────────────────┤\n",
       "│ max_pooling2d_26 (\u001b[38;5;33mMaxPooling2D\u001b[0m)      │ (\u001b[38;5;45mNone\u001b[0m, \u001b[38;5;34m20\u001b[0m, \u001b[38;5;34m20\u001b[0m, \u001b[38;5;34m32\u001b[0m)          │               \u001b[38;5;34m0\u001b[0m │\n",
       "├──────────────────────────────────────┼─────────────────────────────┼─────────────────┤\n",
       "│ conv2d_27 (\u001b[38;5;33mConv2D\u001b[0m)                   │ (\u001b[38;5;45mNone\u001b[0m, \u001b[38;5;34m20\u001b[0m, \u001b[38;5;34m20\u001b[0m, \u001b[38;5;34m64\u001b[0m)          │          \u001b[38;5;34m18,496\u001b[0m │\n",
       "├──────────────────────────────────────┼─────────────────────────────┼─────────────────┤\n",
       "│ max_pooling2d_27 (\u001b[38;5;33mMaxPooling2D\u001b[0m)      │ (\u001b[38;5;45mNone\u001b[0m, \u001b[38;5;34m10\u001b[0m, \u001b[38;5;34m10\u001b[0m, \u001b[38;5;34m64\u001b[0m)          │               \u001b[38;5;34m0\u001b[0m │\n",
       "├──────────────────────────────────────┼─────────────────────────────┼─────────────────┤\n",
       "│ flatten_9 (\u001b[38;5;33mFlatten\u001b[0m)                  │ (\u001b[38;5;45mNone\u001b[0m, \u001b[38;5;34m6400\u001b[0m)                │               \u001b[38;5;34m0\u001b[0m │\n",
       "├──────────────────────────────────────┼─────────────────────────────┼─────────────────┤\n",
       "│ dense_19 (\u001b[38;5;33mDense\u001b[0m)                     │ (\u001b[38;5;45mNone\u001b[0m, \u001b[38;5;34m128\u001b[0m)                 │         \u001b[38;5;34m819,328\u001b[0m │\n",
       "├──────────────────────────────────────┼─────────────────────────────┼─────────────────┤\n",
       "│ dense_20 (\u001b[38;5;33mDense\u001b[0m)                     │ (\u001b[38;5;45mNone\u001b[0m, \u001b[38;5;34m1\u001b[0m)                   │             \u001b[38;5;34m129\u001b[0m │\n",
       "└──────────────────────────────────────┴─────────────────────────────┴─────────────────┘\n"
      ]
     },
     "metadata": {},
     "output_type": "display_data"
    },
    {
     "data": {
      "text/html": [
       "<pre style=\"white-space:pre;overflow-x:auto;line-height:normal;font-family:Menlo,'DejaVu Sans Mono',consolas,'Courier New',monospace\"><span style=\"font-weight: bold\"> Total params: </span><span style=\"color: #00af00; text-decoration-color: #00af00\">847,521</span> (3.23 MB)\n",
       "</pre>\n"
      ],
      "text/plain": [
       "\u001b[1m Total params: \u001b[0m\u001b[38;5;34m847,521\u001b[0m (3.23 MB)\n"
      ]
     },
     "metadata": {},
     "output_type": "display_data"
    },
    {
     "data": {
      "text/html": [
       "<pre style=\"white-space:pre;overflow-x:auto;line-height:normal;font-family:Menlo,'DejaVu Sans Mono',consolas,'Courier New',monospace\"><span style=\"font-weight: bold\"> Trainable params: </span><span style=\"color: #00af00; text-decoration-color: #00af00\">847,521</span> (3.23 MB)\n",
       "</pre>\n"
      ],
      "text/plain": [
       "\u001b[1m Trainable params: \u001b[0m\u001b[38;5;34m847,521\u001b[0m (3.23 MB)\n"
      ]
     },
     "metadata": {},
     "output_type": "display_data"
    },
    {
     "data": {
      "text/html": [
       "<pre style=\"white-space:pre;overflow-x:auto;line-height:normal;font-family:Menlo,'DejaVu Sans Mono',consolas,'Courier New',monospace\"><span style=\"font-weight: bold\"> Non-trainable params: </span><span style=\"color: #00af00; text-decoration-color: #00af00\">0</span> (0.00 B)\n",
       "</pre>\n"
      ],
      "text/plain": [
       "\u001b[1m Non-trainable params: \u001b[0m\u001b[38;5;34m0\u001b[0m (0.00 B)\n"
      ]
     },
     "metadata": {},
     "output_type": "display_data"
    }
   ],
   "source": [
    "model1.summary()"
   ]
  },
  {
   "cell_type": "markdown",
   "id": "201814bc",
   "metadata": {},
   "source": [
    "## ModelTunning technique 2 - Oversampling using SMOTE to bring training data labels in balance"
   ]
  },
  {
   "cell_type": "code",
   "execution_count": 78,
   "id": "0b0f9f0a",
   "metadata": {},
   "outputs": [],
   "source": [
    "from imblearn.over_sampling import SMOTE\n",
    "import numpy as np\n",
    "\n",
    "# Reshape 4D array (num_samples, height, width, channels) to 2D array (num_samples, height*width*channels)\n",
    "num_samples, height, width, channels = X_train1.shape\n",
    "X_train1_reshaped = X_train1.reshape(num_samples, height * width * channels)\n",
    "\n",
    "# Apply SMOTE to the reshaped data\n",
    "smote = SMOTE()\n",
    "X_train_resampled, y_train_resampled = smote.fit_resample(X_train1_reshaped, y_train1)\n",
    "\n",
    "# Reshape back to 4D array (num_samples_resampled, height, width, channels)\n",
    "num_samples_resampled = X_train_resampled.shape[0]\n",
    "X_train_resampled = X_train_resampled.reshape(num_samples_resampled, height, width, channels)"
   ]
  },
  {
   "cell_type": "markdown",
   "id": "604a6e2c",
   "metadata": {},
   "source": [
    "## Model Tunning technique 3"
   ]
  },
  {
   "cell_type": "markdown",
   "id": "34f14885",
   "metadata": {},
   "source": [
    "## Calculate class weights to handle class imbalance by balancing both the classes weights while training the model"
   ]
  },
  {
   "cell_type": "code",
   "execution_count": 79,
   "id": "95a1f801",
   "metadata": {},
   "outputs": [],
   "source": [
    "from sklearn.utils import class_weight\n",
    "\n",
    "# Calculate class weights to handle class imbalance\n",
    "class_weights = class_weight.compute_class_weight('balanced', \n",
    "                                                  classes=np.unique(y_train_resampled), \n",
    "                                                  y=y_train_resampled)"
   ]
  },
  {
   "cell_type": "markdown",
   "id": "a044f272",
   "metadata": {},
   "source": [
    "# Train the model"
   ]
  },
  {
   "cell_type": "markdown",
   "id": "32a24a1d",
   "metadata": {},
   "source": [
    "## Model Tunning technique 3 for underfitting model\n",
    "- Decrease the learning rate (0.0001)\n",
    "- increase number of epochs to increase accuracy"
   ]
  },
  {
   "cell_type": "code",
   "execution_count": 137,
   "id": "5bbbeb83",
   "metadata": {
    "scrolled": true
   },
   "outputs": [
    {
     "name": "stdout",
     "output_type": "stream",
     "text": [
      "Epoch 1/80\n",
      "\u001b[1m23/23\u001b[0m \u001b[32m━━━━━━━━━━━━━━━━━━━━\u001b[0m\u001b[37m\u001b[0m \u001b[1m8s\u001b[0m 119ms/step - accuracy: 0.5190 - loss: 0.6931 - val_accuracy: 0.5490 - val_loss: 0.6929\n",
      "Epoch 2/80\n",
      "\u001b[1m23/23\u001b[0m \u001b[32m━━━━━━━━━━━━━━━━━━━━\u001b[0m\u001b[37m\u001b[0m \u001b[1m2s\u001b[0m 81ms/step - accuracy: 0.4949 - loss: 0.6931 - val_accuracy: 0.5490 - val_loss: 0.6923\n",
      "Epoch 3/80\n",
      "\u001b[1m23/23\u001b[0m \u001b[32m━━━━━━━━━━━━━━━━━━━━\u001b[0m\u001b[37m\u001b[0m \u001b[1m2s\u001b[0m 79ms/step - accuracy: 0.4999 - loss: 0.6931 - val_accuracy: 0.5490 - val_loss: 0.6921\n",
      "Epoch 4/80\n",
      "\u001b[1m23/23\u001b[0m \u001b[32m━━━━━━━━━━━━━━━━━━━━\u001b[0m\u001b[37m\u001b[0m \u001b[1m2s\u001b[0m 80ms/step - accuracy: 0.4859 - loss: 0.6932 - val_accuracy: 0.5490 - val_loss: 0.6920\n",
      "Epoch 5/80\n",
      "\u001b[1m23/23\u001b[0m \u001b[32m━━━━━━━━━━━━━━━━━━━━\u001b[0m\u001b[37m\u001b[0m \u001b[1m2s\u001b[0m 77ms/step - accuracy: 0.5179 - loss: 0.6925 - val_accuracy: 0.5490 - val_loss: 0.6915\n",
      "Epoch 6/80\n",
      "\u001b[1m23/23\u001b[0m \u001b[32m━━━━━━━━━━━━━━━━━━━━\u001b[0m\u001b[37m\u001b[0m \u001b[1m2s\u001b[0m 81ms/step - accuracy: 0.4951 - loss: 0.6929 - val_accuracy: 0.5490 - val_loss: 0.6919\n",
      "Epoch 7/80\n",
      "\u001b[1m23/23\u001b[0m \u001b[32m━━━━━━━━━━━━━━━━━━━━\u001b[0m\u001b[37m\u001b[0m \u001b[1m2s\u001b[0m 82ms/step - accuracy: 0.4921 - loss: 0.6922 - val_accuracy: 0.5490 - val_loss: 0.6900\n",
      "Epoch 8/80\n",
      "\u001b[1m23/23\u001b[0m \u001b[32m━━━━━━━━━━━━━━━━━━━━\u001b[0m\u001b[37m\u001b[0m \u001b[1m2s\u001b[0m 79ms/step - accuracy: 0.4978 - loss: 0.6906 - val_accuracy: 0.5621 - val_loss: 0.6886\n",
      "Epoch 9/80\n",
      "\u001b[1m23/23\u001b[0m \u001b[32m━━━━━━━━━━━━━━━━━━━━\u001b[0m\u001b[37m\u001b[0m \u001b[1m2s\u001b[0m 76ms/step - accuracy: 0.5218 - loss: 0.6888 - val_accuracy: 0.5490 - val_loss: 0.6825\n",
      "Epoch 10/80\n",
      "\u001b[1m23/23\u001b[0m \u001b[32m━━━━━━━━━━━━━━━━━━━━\u001b[0m\u001b[37m\u001b[0m \u001b[1m2s\u001b[0m 80ms/step - accuracy: 0.5218 - loss: 0.6828 - val_accuracy: 0.5686 - val_loss: 0.6753\n",
      "Epoch 11/80\n",
      "\u001b[1m23/23\u001b[0m \u001b[32m━━━━━━━━━━━━━━━━━━━━\u001b[0m\u001b[37m\u001b[0m \u001b[1m2s\u001b[0m 79ms/step - accuracy: 0.5579 - loss: 0.6792 - val_accuracy: 0.5882 - val_loss: 0.6644\n",
      "Epoch 12/80\n",
      "\u001b[1m23/23\u001b[0m \u001b[32m━━━━━━━━━━━━━━━━━━━━\u001b[0m\u001b[37m\u001b[0m \u001b[1m2s\u001b[0m 80ms/step - accuracy: 0.6091 - loss: 0.6625 - val_accuracy: 0.6667 - val_loss: 0.6501\n",
      "Epoch 13/80\n",
      "\u001b[1m23/23\u001b[0m \u001b[32m━━━━━━━━━━━━━━━━━━━━\u001b[0m\u001b[37m\u001b[0m \u001b[1m2s\u001b[0m 78ms/step - accuracy: 0.6635 - loss: 0.6372 - val_accuracy: 0.7059 - val_loss: 0.6213\n",
      "Epoch 14/80\n",
      "\u001b[1m23/23\u001b[0m \u001b[32m━━━━━━━━━━━━━━━━━━━━\u001b[0m\u001b[37m\u001b[0m \u001b[1m2s\u001b[0m 77ms/step - accuracy: 0.6646 - loss: 0.6149 - val_accuracy: 0.6797 - val_loss: 0.5968\n",
      "Epoch 15/80\n",
      "\u001b[1m23/23\u001b[0m \u001b[32m━━━━━━━━━━━━━━━━━━━━\u001b[0m\u001b[37m\u001b[0m \u001b[1m2s\u001b[0m 78ms/step - accuracy: 0.7171 - loss: 0.5703 - val_accuracy: 0.7255 - val_loss: 0.5654\n",
      "Epoch 16/80\n",
      "\u001b[1m23/23\u001b[0m \u001b[32m━━━━━━━━━━━━━━━━━━━━\u001b[0m\u001b[37m\u001b[0m \u001b[1m2s\u001b[0m 78ms/step - accuracy: 0.7384 - loss: 0.5469 - val_accuracy: 0.7190 - val_loss: 0.5498\n",
      "Epoch 17/80\n",
      "\u001b[1m23/23\u001b[0m \u001b[32m━━━━━━━━━━━━━━━━━━━━\u001b[0m\u001b[37m\u001b[0m \u001b[1m2s\u001b[0m 79ms/step - accuracy: 0.7535 - loss: 0.5271 - val_accuracy: 0.7059 - val_loss: 0.5447\n",
      "Epoch 18/80\n",
      "\u001b[1m23/23\u001b[0m \u001b[32m━━━━━━━━━━━━━━━━━━━━\u001b[0m\u001b[37m\u001b[0m \u001b[1m2s\u001b[0m 81ms/step - accuracy: 0.7728 - loss: 0.5079 - val_accuracy: 0.7255 - val_loss: 0.5381\n",
      "Epoch 19/80\n",
      "\u001b[1m23/23\u001b[0m \u001b[32m━━━━━━━━━━━━━━━━━━━━\u001b[0m\u001b[37m\u001b[0m \u001b[1m2s\u001b[0m 81ms/step - accuracy: 0.7721 - loss: 0.4964 - val_accuracy: 0.7320 - val_loss: 0.5158\n",
      "Epoch 20/80\n",
      "\u001b[1m23/23\u001b[0m \u001b[32m━━━━━━━━━━━━━━━━━━━━\u001b[0m\u001b[37m\u001b[0m \u001b[1m2s\u001b[0m 80ms/step - accuracy: 0.7917 - loss: 0.4821 - val_accuracy: 0.7386 - val_loss: 0.5264\n",
      "Epoch 21/80\n",
      "\u001b[1m23/23\u001b[0m \u001b[32m━━━━━━━━━━━━━━━━━━━━\u001b[0m\u001b[37m\u001b[0m \u001b[1m2s\u001b[0m 78ms/step - accuracy: 0.7791 - loss: 0.4726 - val_accuracy: 0.7386 - val_loss: 0.5118\n",
      "Epoch 22/80\n",
      "\u001b[1m23/23\u001b[0m \u001b[32m━━━━━━━━━━━━━━━━━━━━\u001b[0m\u001b[37m\u001b[0m \u001b[1m2s\u001b[0m 78ms/step - accuracy: 0.8110 - loss: 0.4545 - val_accuracy: 0.7386 - val_loss: 0.5238\n",
      "Epoch 23/80\n",
      "\u001b[1m23/23\u001b[0m \u001b[32m━━━━━━━━━━━━━━━━━━━━\u001b[0m\u001b[37m\u001b[0m \u001b[1m2s\u001b[0m 78ms/step - accuracy: 0.7995 - loss: 0.4357 - val_accuracy: 0.7516 - val_loss: 0.4999\n",
      "Epoch 24/80\n",
      "\u001b[1m23/23\u001b[0m \u001b[32m━━━━━━━━━━━━━━━━━━━━\u001b[0m\u001b[37m\u001b[0m \u001b[1m2s\u001b[0m 80ms/step - accuracy: 0.8056 - loss: 0.4537 - val_accuracy: 0.7516 - val_loss: 0.4971\n",
      "Epoch 25/80\n",
      "\u001b[1m23/23\u001b[0m \u001b[32m━━━━━━━━━━━━━━━━━━━━\u001b[0m\u001b[37m\u001b[0m \u001b[1m2s\u001b[0m 80ms/step - accuracy: 0.7961 - loss: 0.4572 - val_accuracy: 0.7255 - val_loss: 0.5183\n",
      "Epoch 26/80\n",
      "\u001b[1m23/23\u001b[0m \u001b[32m━━━━━━━━━━━━━━━━━━━━\u001b[0m\u001b[37m\u001b[0m \u001b[1m2s\u001b[0m 78ms/step - accuracy: 0.8236 - loss: 0.4086 - val_accuracy: 0.7843 - val_loss: 0.4842\n",
      "Epoch 27/80\n",
      "\u001b[1m23/23\u001b[0m \u001b[32m━━━━━━━━━━━━━━━━━━━━\u001b[0m\u001b[37m\u001b[0m \u001b[1m2s\u001b[0m 79ms/step - accuracy: 0.7685 - loss: 0.4693 - val_accuracy: 0.7320 - val_loss: 0.5007\n",
      "Epoch 28/80\n",
      "\u001b[1m23/23\u001b[0m \u001b[32m━━━━━━━━━━━━━━━━━━━━\u001b[0m\u001b[37m\u001b[0m \u001b[1m2s\u001b[0m 78ms/step - accuracy: 0.7947 - loss: 0.4398 - val_accuracy: 0.7647 - val_loss: 0.4825\n",
      "Epoch 29/80\n",
      "\u001b[1m23/23\u001b[0m \u001b[32m━━━━━━━━━━━━━━━━━━━━\u001b[0m\u001b[37m\u001b[0m \u001b[1m2s\u001b[0m 79ms/step - accuracy: 0.8045 - loss: 0.4399 - val_accuracy: 0.7582 - val_loss: 0.4797\n",
      "Epoch 30/80\n",
      "\u001b[1m23/23\u001b[0m \u001b[32m━━━━━━━━━━━━━━━━━━━━\u001b[0m\u001b[37m\u001b[0m \u001b[1m2s\u001b[0m 79ms/step - accuracy: 0.8330 - loss: 0.4063 - val_accuracy: 0.7582 - val_loss: 0.4805\n",
      "Epoch 31/80\n",
      "\u001b[1m23/23\u001b[0m \u001b[32m━━━━━━━━━━━━━━━━━━━━\u001b[0m\u001b[37m\u001b[0m \u001b[1m2s\u001b[0m 80ms/step - accuracy: 0.8204 - loss: 0.4031 - val_accuracy: 0.7712 - val_loss: 0.4766\n",
      "Epoch 32/80\n",
      "\u001b[1m23/23\u001b[0m \u001b[32m━━━━━━━━━━━━━━━━━━━━\u001b[0m\u001b[37m\u001b[0m \u001b[1m2s\u001b[0m 79ms/step - accuracy: 0.8098 - loss: 0.4115 - val_accuracy: 0.7778 - val_loss: 0.4622\n",
      "Epoch 33/80\n",
      "\u001b[1m23/23\u001b[0m \u001b[32m━━━━━━━━━━━━━━━━━━━━\u001b[0m\u001b[37m\u001b[0m \u001b[1m2s\u001b[0m 78ms/step - accuracy: 0.8295 - loss: 0.3915 - val_accuracy: 0.7908 - val_loss: 0.4586\n",
      "Epoch 34/80\n",
      "\u001b[1m23/23\u001b[0m \u001b[32m━━━━━━━━━━━━━━━━━━━━\u001b[0m\u001b[37m\u001b[0m \u001b[1m2s\u001b[0m 78ms/step - accuracy: 0.8125 - loss: 0.4190 - val_accuracy: 0.7974 - val_loss: 0.4577\n",
      "Epoch 35/80\n",
      "\u001b[1m23/23\u001b[0m \u001b[32m━━━━━━━━━━━━━━━━━━━━\u001b[0m\u001b[37m\u001b[0m \u001b[1m2s\u001b[0m 79ms/step - accuracy: 0.8083 - loss: 0.3982 - val_accuracy: 0.7843 - val_loss: 0.4521\n",
      "Epoch 36/80\n",
      "\u001b[1m23/23\u001b[0m \u001b[32m━━━━━━━━━━━━━━━━━━━━\u001b[0m\u001b[37m\u001b[0m \u001b[1m2s\u001b[0m 80ms/step - accuracy: 0.8387 - loss: 0.3877 - val_accuracy: 0.7843 - val_loss: 0.4450\n",
      "Epoch 37/80\n",
      "\u001b[1m23/23\u001b[0m \u001b[32m━━━━━━━━━━━━━━━━━━━━\u001b[0m\u001b[37m\u001b[0m \u001b[1m2s\u001b[0m 81ms/step - accuracy: 0.8187 - loss: 0.4077 - val_accuracy: 0.8039 - val_loss: 0.4441\n",
      "Epoch 38/80\n",
      "\u001b[1m23/23\u001b[0m \u001b[32m━━━━━━━━━━━━━━━━━━━━\u001b[0m\u001b[37m\u001b[0m \u001b[1m2s\u001b[0m 80ms/step - accuracy: 0.8382 - loss: 0.3619 - val_accuracy: 0.7778 - val_loss: 0.4349\n",
      "Epoch 39/80\n",
      "\u001b[1m23/23\u001b[0m \u001b[32m━━━━━━━━━━━━━━━━━━━━\u001b[0m\u001b[37m\u001b[0m \u001b[1m2s\u001b[0m 82ms/step - accuracy: 0.8277 - loss: 0.3650 - val_accuracy: 0.7778 - val_loss: 0.4358\n",
      "Epoch 40/80\n",
      "\u001b[1m23/23\u001b[0m \u001b[32m━━━━━━━━━━━━━━━━━━━━\u001b[0m\u001b[37m\u001b[0m \u001b[1m2s\u001b[0m 79ms/step - accuracy: 0.8467 - loss: 0.3462 - val_accuracy: 0.7908 - val_loss: 0.4223\n",
      "Epoch 41/80\n",
      "\u001b[1m23/23\u001b[0m \u001b[32m━━━━━━━━━━━━━━━━━━━━\u001b[0m\u001b[37m\u001b[0m \u001b[1m2s\u001b[0m 79ms/step - accuracy: 0.7984 - loss: 0.4042 - val_accuracy: 0.7843 - val_loss: 0.4235\n",
      "Epoch 42/80\n",
      "\u001b[1m23/23\u001b[0m \u001b[32m━━━━━━━━━━━━━━━━━━━━\u001b[0m\u001b[37m\u001b[0m \u001b[1m2s\u001b[0m 79ms/step - accuracy: 0.8483 - loss: 0.3513 - val_accuracy: 0.8039 - val_loss: 0.4156\n",
      "Epoch 43/80\n",
      "\u001b[1m23/23\u001b[0m \u001b[32m━━━━━━━━━━━━━━━━━━━━\u001b[0m\u001b[37m\u001b[0m \u001b[1m2s\u001b[0m 79ms/step - accuracy: 0.8403 - loss: 0.3624 - val_accuracy: 0.8105 - val_loss: 0.4104\n",
      "Epoch 44/80\n",
      "\u001b[1m23/23\u001b[0m \u001b[32m━━━━━━━━━━━━━━━━━━━━\u001b[0m\u001b[37m\u001b[0m \u001b[1m2s\u001b[0m 80ms/step - accuracy: 0.8527 - loss: 0.3262 - val_accuracy: 0.8039 - val_loss: 0.4048\n",
      "Epoch 45/80\n",
      "\u001b[1m23/23\u001b[0m \u001b[32m━━━━━━━━━━━━━━━━━━━━\u001b[0m\u001b[37m\u001b[0m \u001b[1m2s\u001b[0m 80ms/step - accuracy: 0.8678 - loss: 0.3239 - val_accuracy: 0.7843 - val_loss: 0.4182\n",
      "Epoch 46/80\n",
      "\u001b[1m23/23\u001b[0m \u001b[32m━━━━━━━━━━━━━━━━━━━━\u001b[0m\u001b[37m\u001b[0m \u001b[1m2s\u001b[0m 82ms/step - accuracy: 0.8499 - loss: 0.3402 - val_accuracy: 0.7908 - val_loss: 0.4030\n",
      "Epoch 47/80\n",
      "\u001b[1m23/23\u001b[0m \u001b[32m━━━━━━━━━━━━━━━━━━━━\u001b[0m\u001b[37m\u001b[0m \u001b[1m2s\u001b[0m 82ms/step - accuracy: 0.8590 - loss: 0.3290 - val_accuracy: 0.7974 - val_loss: 0.3983\n",
      "Epoch 48/80\n",
      "\u001b[1m23/23\u001b[0m \u001b[32m━━━━━━━━━━━━━━━━━━━━\u001b[0m\u001b[37m\u001b[0m \u001b[1m2s\u001b[0m 81ms/step - accuracy: 0.8422 - loss: 0.3372 - val_accuracy: 0.8170 - val_loss: 0.3869\n",
      "Epoch 49/80\n",
      "\u001b[1m23/23\u001b[0m \u001b[32m━━━━━━━━━━━━━━━━━━━━\u001b[0m\u001b[37m\u001b[0m \u001b[1m2s\u001b[0m 79ms/step - accuracy: 0.8523 - loss: 0.3318 - val_accuracy: 0.8301 - val_loss: 0.3805\n",
      "Epoch 50/80\n",
      "\u001b[1m23/23\u001b[0m \u001b[32m━━━━━━━━━━━━━━━━━━━━\u001b[0m\u001b[37m\u001b[0m \u001b[1m2s\u001b[0m 78ms/step - accuracy: 0.8680 - loss: 0.3074 - val_accuracy: 0.8039 - val_loss: 0.3830\n",
      "Epoch 51/80\n",
      "\u001b[1m23/23\u001b[0m \u001b[32m━━━━━━━━━━━━━━━━━━━━\u001b[0m\u001b[37m\u001b[0m \u001b[1m2s\u001b[0m 78ms/step - accuracy: 0.8647 - loss: 0.3139 - val_accuracy: 0.8235 - val_loss: 0.3772\n",
      "Epoch 52/80\n",
      "\u001b[1m23/23\u001b[0m \u001b[32m━━━━━━━━━━━━━━━━━━━━\u001b[0m\u001b[37m\u001b[0m \u001b[1m2s\u001b[0m 76ms/step - accuracy: 0.8593 - loss: 0.3460 - val_accuracy: 0.8105 - val_loss: 0.3694\n",
      "Epoch 53/80\n",
      "\u001b[1m23/23\u001b[0m \u001b[32m━━━━━━━━━━━━━━━━━━━━\u001b[0m\u001b[37m\u001b[0m \u001b[1m2s\u001b[0m 76ms/step - accuracy: 0.8726 - loss: 0.2897 - val_accuracy: 0.8039 - val_loss: 0.3662\n",
      "Epoch 54/80\n",
      "\u001b[1m23/23\u001b[0m \u001b[32m━━━━━━━━━━━━━━━━━━━━\u001b[0m\u001b[37m\u001b[0m \u001b[1m2s\u001b[0m 76ms/step - accuracy: 0.8788 - loss: 0.2910 - val_accuracy: 0.8301 - val_loss: 0.3592\n",
      "Epoch 55/80\n",
      "\u001b[1m23/23\u001b[0m \u001b[32m━━━━━━━━━━━━━━━━━━━━\u001b[0m\u001b[37m\u001b[0m \u001b[1m2s\u001b[0m 78ms/step - accuracy: 0.8829 - loss: 0.2952 - val_accuracy: 0.8039 - val_loss: 0.3682\n",
      "Epoch 56/80\n",
      "\u001b[1m23/23\u001b[0m \u001b[32m━━━━━━━━━━━━━━━━━━━━\u001b[0m\u001b[37m\u001b[0m \u001b[1m2s\u001b[0m 79ms/step - accuracy: 0.8871 - loss: 0.3087 - val_accuracy: 0.8301 - val_loss: 0.3527\n",
      "Epoch 57/80\n",
      "\u001b[1m23/23\u001b[0m \u001b[32m━━━━━━━━━━━━━━━━━━━━\u001b[0m\u001b[37m\u001b[0m \u001b[1m2s\u001b[0m 79ms/step - accuracy: 0.8803 - loss: 0.2852 - val_accuracy: 0.8301 - val_loss: 0.3451\n",
      "Epoch 58/80\n",
      "\u001b[1m23/23\u001b[0m \u001b[32m━━━━━━━━━━━━━━━━━━━━\u001b[0m\u001b[37m\u001b[0m \u001b[1m2s\u001b[0m 79ms/step - accuracy: 0.8821 - loss: 0.2780 - val_accuracy: 0.8301 - val_loss: 0.3459\n",
      "Epoch 59/80\n",
      "\u001b[1m23/23\u001b[0m \u001b[32m━━━━━━━━━━━━━━━━━━━━\u001b[0m\u001b[37m\u001b[0m \u001b[1m2s\u001b[0m 78ms/step - accuracy: 0.8937 - loss: 0.2759 - val_accuracy: 0.8366 - val_loss: 0.3364\n",
      "Epoch 60/80\n",
      "\u001b[1m23/23\u001b[0m \u001b[32m━━━━━━━━━━━━━━━━━━━━\u001b[0m\u001b[37m\u001b[0m \u001b[1m2s\u001b[0m 85ms/step - accuracy: 0.9002 - loss: 0.2612 - val_accuracy: 0.8627 - val_loss: 0.3341\n",
      "Epoch 61/80\n",
      "\u001b[1m23/23\u001b[0m \u001b[32m━━━━━━━━━━━━━━━━━━━━\u001b[0m\u001b[37m\u001b[0m \u001b[1m2s\u001b[0m 80ms/step - accuracy: 0.8815 - loss: 0.2867 - val_accuracy: 0.8497 - val_loss: 0.3258\n",
      "Epoch 62/80\n",
      "\u001b[1m23/23\u001b[0m \u001b[32m━━━━━━━━━━━━━━━━━━━━\u001b[0m\u001b[37m\u001b[0m \u001b[1m2s\u001b[0m 80ms/step - accuracy: 0.8891 - loss: 0.2674 - val_accuracy: 0.8627 - val_loss: 0.3281\n",
      "Epoch 63/80\n",
      "\u001b[1m23/23\u001b[0m \u001b[32m━━━━━━━━━━━━━━━━━━━━\u001b[0m\u001b[37m\u001b[0m \u001b[1m2s\u001b[0m 79ms/step - accuracy: 0.8835 - loss: 0.2709 - val_accuracy: 0.8562 - val_loss: 0.3401\n",
      "Epoch 64/80\n",
      "\u001b[1m23/23\u001b[0m \u001b[32m━━━━━━━━━━━━━━━━━━━━\u001b[0m\u001b[37m\u001b[0m \u001b[1m2s\u001b[0m 78ms/step - accuracy: 0.8977 - loss: 0.2367 - val_accuracy: 0.8693 - val_loss: 0.3114\n",
      "Epoch 65/80\n",
      "\u001b[1m23/23\u001b[0m \u001b[32m━━━━━━━━━━━━━━━━━━━━\u001b[0m\u001b[37m\u001b[0m \u001b[1m2s\u001b[0m 78ms/step - accuracy: 0.9089 - loss: 0.2376 - val_accuracy: 0.8627 - val_loss: 0.3141\n",
      "Epoch 66/80\n",
      "\u001b[1m23/23\u001b[0m \u001b[32m━━━━━━━━━━━━━━━━━━━━\u001b[0m\u001b[37m\u001b[0m \u001b[1m2s\u001b[0m 77ms/step - accuracy: 0.9094 - loss: 0.2404 - val_accuracy: 0.8562 - val_loss: 0.3063\n",
      "Epoch 67/80\n",
      "\u001b[1m23/23\u001b[0m \u001b[32m━━━━━━━━━━━━━━━━━━━━\u001b[0m\u001b[37m\u001b[0m \u001b[1m2s\u001b[0m 80ms/step - accuracy: 0.9249 - loss: 0.2135 - val_accuracy: 0.8693 - val_loss: 0.3010\n",
      "Epoch 68/80\n",
      "\u001b[1m23/23\u001b[0m \u001b[32m━━━━━━━━━━━━━━━━━━━━\u001b[0m\u001b[37m\u001b[0m \u001b[1m2s\u001b[0m 82ms/step - accuracy: 0.9062 - loss: 0.2225 - val_accuracy: 0.8758 - val_loss: 0.3059\n",
      "Epoch 69/80\n",
      "\u001b[1m23/23\u001b[0m \u001b[32m━━━━━━━━━━━━━━━━━━━━\u001b[0m\u001b[37m\u001b[0m \u001b[1m2s\u001b[0m 81ms/step - accuracy: 0.9171 - loss: 0.2152 - val_accuracy: 0.8627 - val_loss: 0.2963\n",
      "Epoch 70/80\n",
      "\u001b[1m23/23\u001b[0m \u001b[32m━━━━━━━━━━━━━━━━━━━━\u001b[0m\u001b[37m\u001b[0m \u001b[1m2s\u001b[0m 79ms/step - accuracy: 0.9318 - loss: 0.2029 - val_accuracy: 0.8824 - val_loss: 0.2868\n",
      "Epoch 71/80\n",
      "\u001b[1m23/23\u001b[0m \u001b[32m━━━━━━━━━━━━━━━━━━━━\u001b[0m\u001b[37m\u001b[0m \u001b[1m2s\u001b[0m 78ms/step - accuracy: 0.9152 - loss: 0.2069 - val_accuracy: 0.8627 - val_loss: 0.2866\n",
      "Epoch 72/80\n",
      "\u001b[1m23/23\u001b[0m \u001b[32m━━━━━━━━━━━━━━━━━━━━\u001b[0m\u001b[37m\u001b[0m \u001b[1m2s\u001b[0m 78ms/step - accuracy: 0.9045 - loss: 0.2397 - val_accuracy: 0.8824 - val_loss: 0.2775\n",
      "Epoch 73/80\n",
      "\u001b[1m23/23\u001b[0m \u001b[32m━━━━━━━━━━━━━━━━━━━━\u001b[0m\u001b[37m\u001b[0m \u001b[1m2s\u001b[0m 81ms/step - accuracy: 0.9218 - loss: 0.2052 - val_accuracy: 0.8758 - val_loss: 0.2719\n",
      "Epoch 74/80\n",
      "\u001b[1m23/23\u001b[0m \u001b[32m━━━━━━━━━━━━━━━━━━━━\u001b[0m\u001b[37m\u001b[0m \u001b[1m2s\u001b[0m 81ms/step - accuracy: 0.9381 - loss: 0.1787 - val_accuracy: 0.8889 - val_loss: 0.2847\n",
      "Epoch 75/80\n",
      "\u001b[1m23/23\u001b[0m \u001b[32m━━━━━━━━━━━━━━━━━━━━\u001b[0m\u001b[37m\u001b[0m \u001b[1m2s\u001b[0m 81ms/step - accuracy: 0.9271 - loss: 0.1984 - val_accuracy: 0.8824 - val_loss: 0.2683\n",
      "Epoch 76/80\n",
      "\u001b[1m23/23\u001b[0m \u001b[32m━━━━━━━━━━━━━━━━━━━━\u001b[0m\u001b[37m\u001b[0m \u001b[1m2s\u001b[0m 81ms/step - accuracy: 0.9249 - loss: 0.1948 - val_accuracy: 0.8889 - val_loss: 0.2619\n",
      "Epoch 77/80\n",
      "\u001b[1m23/23\u001b[0m \u001b[32m━━━━━━━━━━━━━━━━━━━━\u001b[0m\u001b[37m\u001b[0m \u001b[1m2s\u001b[0m 83ms/step - accuracy: 0.9225 - loss: 0.1951 - val_accuracy: 0.8758 - val_loss: 0.2638\n",
      "Epoch 78/80\n",
      "\u001b[1m23/23\u001b[0m \u001b[32m━━━━━━━━━━━━━━━━━━━━\u001b[0m\u001b[37m\u001b[0m \u001b[1m2s\u001b[0m 81ms/step - accuracy: 0.9422 - loss: 0.1637 - val_accuracy: 0.8889 - val_loss: 0.2537\n",
      "Epoch 79/80\n",
      "\u001b[1m23/23\u001b[0m \u001b[32m━━━━━━━━━━━━━━━━━━━━\u001b[0m\u001b[37m\u001b[0m \u001b[1m2s\u001b[0m 80ms/step - accuracy: 0.9249 - loss: 0.1889 - val_accuracy: 0.8889 - val_loss: 0.2668\n",
      "Epoch 80/80\n",
      "\u001b[1m23/23\u001b[0m \u001b[32m━━━━━━━━━━━━━━━━━━━━\u001b[0m\u001b[37m\u001b[0m \u001b[1m2s\u001b[0m 81ms/step - accuracy: 0.9321 - loss: 0.1877 - val_accuracy: 0.8824 - val_loss: 0.2885\n"
     ]
    }
   ],
   "source": [
    "# Train the model\n",
    "history1 = model1.fit(X_train_resampled, y_train_resampled, epochs=80, validation_data=(X_val1, y_val1), batch_size=32,\n",
    "                      class_weight={0: class_weights[0], 1: class_weights[1]})"
   ]
  },
  {
   "cell_type": "markdown",
   "id": "6e749c50",
   "metadata": {},
   "source": [
    "# Evaluate the model on validation data"
   ]
  },
  {
   "cell_type": "code",
   "execution_count": 138,
   "id": "b3c46626",
   "metadata": {},
   "outputs": [
    {
     "name": "stdout",
     "output_type": "stream",
     "text": [
      "\u001b[1m5/5\u001b[0m \u001b[32m━━━━━━━━━━━━━━━━━━━━\u001b[0m\u001b[37m\u001b[0m \u001b[1m0s\u001b[0m 19ms/step - accuracy: 0.8939 - loss: 0.2589\n"
     ]
    },
    {
     "data": {
      "text/plain": [
       "[0.28852179646492004, 0.8823529481887817]"
      ]
     },
     "execution_count": 138,
     "metadata": {},
     "output_type": "execute_result"
    }
   ],
   "source": [
    "# Evaluate the model\n",
    "model1.evaluate(X_val1, y_val1)"
   ]
  },
  {
   "cell_type": "code",
   "execution_count": 139,
   "id": "dce26de8",
   "metadata": {},
   "outputs": [
    {
     "name": "stdout",
     "output_type": "stream",
     "text": [
      "\u001b[1m23/23\u001b[0m \u001b[32m━━━━━━━━━━━━━━━━━━━━\u001b[0m\u001b[37m\u001b[0m \u001b[1m0s\u001b[0m 18ms/step - accuracy: 0.8948 - loss: 0.2195\n"
     ]
    },
    {
     "data": {
      "text/plain": [
       "[0.21107962727546692, 0.9073033928871155]"
      ]
     },
     "execution_count": 139,
     "metadata": {},
     "output_type": "execute_result"
    }
   ],
   "source": [
    "model1.evaluate(X_train1, y_train1)"
   ]
  },
  {
   "cell_type": "markdown",
   "id": "12798821",
   "metadata": {},
   "source": [
    "## Insights:\n",
    "- The validation as well as training accuracy has improved drastically by tunning the model using many approaches and handling underfitting.\n",
    "- The loss has also reduced so it is a optimal model as the performance is not increasing beyond"
   ]
  },
  {
   "cell_type": "markdown",
   "id": "312805bd",
   "metadata": {},
   "source": [
    "# Training & Validation Loss plotted against number of Epochs"
   ]
  },
  {
   "cell_type": "code",
   "execution_count": 141,
   "id": "b1f1c498",
   "metadata": {},
   "outputs": [
    {
     "data": {
      "image/png": "[encoded data removed]",
      "text/plain": [
       "<Figure size 1000x800 with 1 Axes>"
      ]
     },
     "metadata": {},
     "output_type": "display_data"
    }
   ],
   "source": [
    "N1= np.arange(0,80)\n",
    "plt.style.use('ggplot')\n",
    "plt.figure(figsize=(10,8))\n",
    "plt.plot(N1,history1.history['loss'],label='train_loss')\n",
    "plt.plot(N1,history1.history['val_loss'],label='val_loss')\n",
    "plt.title('ANN: Training and Validation Loss')\n",
    "plt.xlabel('Epoch #',weight='bold')\n",
    "plt.ylabel('Loss',weight='bold')\n",
    "plt.legend()\n",
    "plt.show()"
   ]
  },
  {
   "cell_type": "markdown",
   "id": "6cb7902f",
   "metadata": {},
   "source": [
    "## Insights: \n",
    "- Both the train and validation loss are decreasing with the increasing number of Epochs which is a good model.\n",
    "- Both the lines are nearby and have less fluctuations"
   ]
  },
  {
   "cell_type": "markdown",
   "id": "cfd1cb88",
   "metadata": {},
   "source": [
    "# Training & Validation Accuracy plotted against number of Epochs"
   ]
  },
  {
   "cell_type": "code",
   "execution_count": 143,
   "id": "dcc8ab88",
   "metadata": {},
   "outputs": [
    {
     "data": {
      "image/png": "[encoded data removed]",
      "text/plain": [
       "<Figure size 1000x800 with 1 Axes>"
      ]
     },
     "metadata": {},
     "output_type": "display_data"
    }
   ],
   "source": [
    "N1= np.arange(0,80)\n",
    "plt.style.use('ggplot')\n",
    "plt.figure(figsize=(10,8))\n",
    "plt.plot(N1,history1.history['accuracy'],label='train_acc')\n",
    "plt.plot(N1,history1.history['val_accuracy'],label='val_acc')\n",
    "plt.title('ANN: Training and Validation Accuracy')\n",
    "plt.xlabel('Epoch #',weight='bold')\n",
    "plt.ylabel('Accuracy',weight='bold')\n",
    "plt.legend()\n",
    "plt.show()"
   ]
  },
  {
   "cell_type": "markdown",
   "id": "84bb4b3e",
   "metadata": {},
   "source": [
    "## Insights: \n",
    "- Both the train and validation accuracy are increasing with the increasing number of Epochs which is a good model.\n",
    "- Both the lines are nearby and have less fluctuations"
   ]
  },
  {
   "cell_type": "markdown",
   "id": "9a8db920",
   "metadata": {},
   "source": [
    "# Evaluate the model on test data (unseen data)"
   ]
  },
  {
   "cell_type": "code",
   "execution_count": 144,
   "id": "9df3a0e0",
   "metadata": {},
   "outputs": [
    {
     "name": "stdout",
     "output_type": "stream",
     "text": [
      "\u001b[1m5/5\u001b[0m \u001b[32m━━━━━━━━━━━━━━━━━━━━\u001b[0m\u001b[37m\u001b[0m \u001b[1m1s\u001b[0m 98ms/step\n"
     ]
    }
   ],
   "source": [
    "y_pred1= model1.predict(X_test1)"
   ]
  },
  {
   "cell_type": "code",
   "execution_count": 145,
   "id": "6ef85521",
   "metadata": {},
   "outputs": [
    {
     "data": {
      "text/plain": [
       "array([[9.64103818e-01],\n",
       "       [7.81920671e-01],\n",
       "       [6.90288186e-01],\n",
       "       [9.70758080e-01],\n",
       "       [8.22479953e-04],\n",
       "       [9.79422450e-01],\n",
       "       [9.67534840e-01],\n",
       "       [3.92618150e-01],\n",
       "       [6.84021279e-06],\n",
       "       [8.39300632e-01],\n",
       "       [9.58442807e-01],\n",
       "       [9.59226429e-01],\n",
       "       [1.01610422e-01],\n",
       "       [8.48670125e-01],\n",
       "       [2.09526166e-01],\n",
       "       [8.28022897e-01],\n",
       "       [9.36567426e-01],\n",
       "       [9.76255774e-01],\n",
       "       [9.86228883e-01],\n",
       "       [9.73810613e-01],\n",
       "       [7.87433743e-01],\n",
       "       [3.43828052e-02],\n",
       "       [3.39989245e-01],\n",
       "       [7.51990318e-01],\n",
       "       [7.83609152e-01],\n",
       "       [9.87061024e-01],\n",
       "       [1.36136478e-02],\n",
       "       [2.13370800e-01],\n",
       "       [4.59178627e-01],\n",
       "       [2.54561974e-06],\n",
       "       [9.77734625e-01],\n",
       "       [7.78223813e-01],\n",
       "       [5.11370054e-05],\n",
       "       [9.95486021e-01],\n",
       "       [2.05166787e-02],\n",
       "       [9.80132937e-01],\n",
       "       [2.64716476e-01],\n",
       "       [8.70352983e-01],\n",
       "       [2.41948143e-01],\n",
       "       [8.32505882e-01],\n",
       "       [1.94664062e-06],\n",
       "       [9.80668783e-01],\n",
       "       [2.18248293e-02],\n",
       "       [4.08993423e-01],\n",
       "       [9.67725694e-01],\n",
       "       [2.19238862e-01],\n",
       "       [9.80114937e-01],\n",
       "       [9.75835681e-01],\n",
       "       [9.89896297e-01],\n",
       "       [3.21981281e-01],\n",
       "       [8.92786443e-01],\n",
       "       [2.64793951e-02],\n",
       "       [9.81993735e-01],\n",
       "       [7.96089292e-01],\n",
       "       [7.49655604e-01],\n",
       "       [9.67841148e-01],\n",
       "       [3.45671117e-01],\n",
       "       [9.73396897e-01],\n",
       "       [9.45643485e-01],\n",
       "       [9.43627119e-01],\n",
       "       [6.61214930e-04],\n",
       "       [9.87718523e-01],\n",
       "       [9.28858399e-01],\n",
       "       [5.10601512e-06],\n",
       "       [9.74822104e-01],\n",
       "       [5.17891720e-03],\n",
       "       [4.40971181e-02],\n",
       "       [3.68656814e-02],\n",
       "       [9.95664886e-05],\n",
       "       [8.31560910e-01],\n",
       "       [9.28284526e-01],\n",
       "       [2.32356805e-02],\n",
       "       [7.62262285e-01],\n",
       "       [2.37313434e-01],\n",
       "       [9.55203950e-01],\n",
       "       [9.77706850e-01],\n",
       "       [9.72666204e-01],\n",
       "       [3.75095084e-02],\n",
       "       [4.81067254e-04],\n",
       "       [9.48000252e-01],\n",
       "       [9.73044753e-01],\n",
       "       [3.72586219e-05],\n",
       "       [3.20972800e-02],\n",
       "       [8.39147508e-01],\n",
       "       [7.80748529e-03],\n",
       "       [9.76769447e-01],\n",
       "       [9.85117435e-01],\n",
       "       [8.62304330e-01],\n",
       "       [9.49852529e-06],\n",
       "       [7.26724505e-01],\n",
       "       [9.50280666e-01],\n",
       "       [2.64461245e-02],\n",
       "       [2.72504389e-02],\n",
       "       [6.82107329e-01],\n",
       "       [9.64495182e-01],\n",
       "       [1.62068216e-04],\n",
       "       [9.08808231e-01],\n",
       "       [3.81100565e-01],\n",
       "       [4.00350466e-02],\n",
       "       [9.72549498e-01],\n",
       "       [3.41274473e-03],\n",
       "       [9.64383423e-01],\n",
       "       [9.71890092e-01],\n",
       "       [9.68359709e-01],\n",
       "       [7.99328804e-01],\n",
       "       [5.21660388e-01],\n",
       "       [9.41251405e-03],\n",
       "       [7.40206018e-02],\n",
       "       [7.90392876e-01],\n",
       "       [9.82346117e-01],\n",
       "       [7.17588782e-01],\n",
       "       [8.84199560e-01],\n",
       "       [2.90013547e-03],\n",
       "       [6.10363819e-02],\n",
       "       [8.16238999e-01],\n",
       "       [1.40909189e-02],\n",
       "       [9.10908401e-01],\n",
       "       [5.35170606e-04],\n",
       "       [2.86554496e-05],\n",
       "       [6.64523914e-02],\n",
       "       [7.53787026e-05],\n",
       "       [5.33701837e-07],\n",
       "       [9.81181085e-01],\n",
       "       [2.64880061e-01],\n",
       "       [9.48597729e-01],\n",
       "       [1.91204771e-02],\n",
       "       [9.54593897e-01],\n",
       "       [9.73264575e-01],\n",
       "       [5.57662010e-01],\n",
       "       [4.10590053e-01],\n",
       "       [9.46515381e-01],\n",
       "       [9.78297830e-01],\n",
       "       [6.71222806e-01],\n",
       "       [3.89518420e-04],\n",
       "       [9.34868813e-01],\n",
       "       [9.66848731e-01],\n",
       "       [1.23410486e-01],\n",
       "       [9.03447509e-01],\n",
       "       [2.31443420e-01],\n",
       "       [4.82660741e-01],\n",
       "       [1.89930836e-06],\n",
       "       [9.11160946e-01],\n",
       "       [3.72676477e-05],\n",
       "       [9.70568240e-01],\n",
       "       [9.86277819e-01],\n",
       "       [9.73622441e-01],\n",
       "       [9.50280666e-01],\n",
       "       [7.44693898e-06],\n",
       "       [9.85513270e-01],\n",
       "       [1.62755966e-01],\n",
       "       [6.91231072e-01],\n",
       "       [9.64689016e-01],\n",
       "       [9.57050681e-01]], dtype=float32)"
      ]
     },
     "execution_count": 145,
     "metadata": {},
     "output_type": "execute_result"
    }
   ],
   "source": [
    "y_pred1"
   ]
  },
  {
   "cell_type": "code",
   "execution_count": 146,
   "id": "43a7cf6d",
   "metadata": {},
   "outputs": [],
   "source": [
    "from sklearn.metrics import confusion_matrix, classification_report,accuracy_score\n",
    "# Since the output is probabilistic, use a threshold to convert to binary (0 or 1)\n",
    "y_pred1 = np.round(y_pred1).astype(int)  # Convert to 0s and 1s based on a threshold of 0.5\n",
    "\n",
    "# 2. Generate the confusion matrix\n",
    "conf_matrix = confusion_matrix(y_test1, y_pred1)"
   ]
  },
  {
   "cell_type": "code",
   "execution_count": 147,
   "id": "b0b302b0",
   "metadata": {},
   "outputs": [
    {
     "name": "stdout",
     "output_type": "stream",
     "text": [
      "[[55 15]\n",
      " [ 8 75]]\n"
     ]
    }
   ],
   "source": [
    "print(conf_matrix)"
   ]
  },
  {
   "cell_type": "code",
   "execution_count": 148,
   "id": "1214df59",
   "metadata": {},
   "outputs": [
    {
     "name": "stdout",
     "output_type": "stream",
     "text": [
      "              precision    recall  f1-score   support\n",
      "\n",
      "           0       0.87      0.79      0.83        70\n",
      "           1       0.83      0.90      0.87        83\n",
      "\n",
      "    accuracy                           0.85       153\n",
      "   macro avg       0.85      0.84      0.85       153\n",
      "weighted avg       0.85      0.85      0.85       153\n",
      "\n",
      "Accuracy of the model:  0.8496732026143791\n"
     ]
    }
   ],
   "source": [
    "print(classification_report(y_test1,y_pred1))\n",
    " \n",
    "acc=accuracy_score(y_test1, y_pred1)\n",
    "print(\"Accuracy of the model: \",acc)"
   ]
  },
  {
   "cell_type": "markdown",
   "id": "53400eb3",
   "metadata": {},
   "source": [
    "## Insights:\n",
    "- The model performance has improved afte tunning approaches with a good recall in both the classes and a good accuracy of 84.96% \n",
    "- Thus the above tuned model name 'Model1' is the optimal model that can be used for live drowsiness alert."
   ]
  },
  {
   "cell_type": "code",
   "execution_count": 56,
   "id": "899ef49c",
   "metadata": {},
   "outputs": [
    {
     "name": "stdout",
     "output_type": "stream",
     "text": [
      "Unique values: [0 1]\n",
      "Counts: [509 509]\n"
     ]
    }
   ],
   "source": [
    "# Get unique values and their counts\n",
    "unique_values, counts = np.unique(y1, return_counts=True)\n",
    "\n",
    "# Print the results\n",
    "print(\"Unique values:\", unique_values)\n",
    "print(\"Counts:\", counts)"
   ]
  },
  {
   "cell_type": "code",
   "execution_count": null,
   "id": "60833cdf",
   "metadata": {},
   "outputs": [],
   "source": [
    "#equal class distribution in dataset for both classes"
   ]
  },
  {
   "cell_type": "code",
   "execution_count": 57,
   "id": "e754e0bd",
   "metadata": {},
   "outputs": [
    {
     "name": "stdout",
     "output_type": "stream",
     "text": [
      "Unique values: [0 1]\n",
      "Counts: [355 357]\n"
     ]
    }
   ],
   "source": [
    "# Get unique values and their counts\n",
    "unique_values, counts = np.unique(y_train1, return_counts=True)\n",
    "\n",
    "# Print the results\n",
    "print(\"Unique values:\", unique_values)\n",
    "print(\"Counts:\", counts)"
   ]
  },
  {
   "cell_type": "code",
   "execution_count": 92,
   "id": "520b9f24",
   "metadata": {},
   "outputs": [
    {
     "name": "stdout",
     "output_type": "stream",
     "text": [
      "Unique values: [0 1]\n",
      "Counts: [357 357]\n"
     ]
    }
   ],
   "source": [
    "# Get unique values and their counts\n",
    "unique_values, counts = np.unique(y_train_resampled, return_counts=True)\n",
    "\n",
    "# Print the results\n",
    "print(\"Unique values:\", unique_values)\n",
    "print(\"Counts:\", counts)"
   ]
  },
  {
   "cell_type": "markdown",
   "id": "67c166ac",
   "metadata": {},
   "source": [
    "# Save the model after training"
   ]
  },
  {
   "cell_type": "code",
   "execution_count": 149,
   "id": "7988ef06",
   "metadata": {},
   "outputs": [
    {
     "name": "stderr",
     "output_type": "stream",
     "text": [
      "WARNING:absl:You are saving your model as an HDF5 file via `model.save()` or `keras.saving.save_model(model)`. This file format is considered legacy. We recommend using instead the native Keras format, e.g. `model.save('my_model.keras')` or `keras.saving.save_model(model, 'my_model.keras')`. \n"
     ]
    }
   ],
   "source": [
    "# Save the model after training\n",
    "model1.save('drowsiness_detection_model.h5')"
   ]
  },
  {
   "cell_type": "markdown",
   "id": "81dd7e57",
   "metadata": {},
   "source": [
    "### Model building completed and saved\n",
    "### Real Time Drowsiness Alert using Webcam is on file 2"
   ]
  }
 ],
 "metadata": {
  "kernelspec": {
   "display_name": "Python 3 (ipykernel)",
   "language": "python",
   "name": "python3"
  },
  "language_info": {
   "codemirror_mode": {
    "name": "ipython",
    "version": 3
   },
   "file_extension": ".py",
   "mimetype": "text/x-python",
   "name": "python",
   "nbconvert_exporter": "python",
   "pygments_lexer": "ipython3",
   "version": "3.11.7"
  }
 },
 "nbformat": 4,
 "nbformat_minor": 5
}
